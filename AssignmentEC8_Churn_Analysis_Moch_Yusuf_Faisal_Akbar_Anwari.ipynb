{
  "nbformat": 4,
  "nbformat_minor": 0,
  "metadata": {
    "colab": {
      "provenance": [],
      "toc_visible": true,
      "authorship_tag": "ABX9TyMVZhjJZCRjatFXvpmcyR4h"
    },
    "kernelspec": {
      "name": "python3",
      "display_name": "Python 3"
    },
    "language_info": {
      "name": "python"
    }
  },
  "cells": [
    {
      "cell_type": "markdown",
      "source": [
        "# Persiapan"
      ],
      "metadata": {
        "id": "Q9Smvj1WlGsq"
      }
    },
    {
      "cell_type": "code",
      "execution_count": null,
      "metadata": {
        "colab": {
          "base_uri": "https://localhost:8080/"
        },
        "id": "eoAgp_pnc5d5",
        "outputId": "513e1414-aeb8-498b-a041-3d67f32aa3ab"
      },
      "outputs": [
        {
          "output_type": "stream",
          "name": "stdout",
          "text": [
            "Drive already mounted at /content/drive; to attempt to forcibly remount, call drive.mount(\"/content/drive\", force_remount=True).\n"
          ]
        }
      ],
      "source": [
        "# Impor library\n",
        "import pandas as pd\n",
        "import numpy as np\n",
        "import matplotlib.pyplot as plt\n",
        "import seaborn as sns\n",
        "\n",
        "# Hubungkan ke googledrive\n",
        "from google.colab import drive\n",
        "drive.mount('/content/drive')"
      ]
    },
    {
      "cell_type": "code",
      "source": [
        "file_path = '/content/drive/MyDrive/Dibimbing/Assignment Extra Class 8 - Churn Anylisis/Churn_Modelling.csv'\n",
        "df = pd.read_csv(file_path)\n",
        "\n",
        "# Tampilkan 5 baris pertama untuk memastikan data berhasil dimuat\n",
        "print(\"Dataset berhasil dimuat!\")\n",
        "df.head()"
      ],
      "metadata": {
        "colab": {
          "base_uri": "https://localhost:8080/",
          "height": 224
        },
        "id": "lmupTmBPkmK3",
        "outputId": "c1f0360c-5f4b-4d55-e5c9-90342d0d082d"
      },
      "execution_count": null,
      "outputs": [
        {
          "output_type": "stream",
          "name": "stdout",
          "text": [
            "Dataset berhasil dimuat!\n"
          ]
        },
        {
          "output_type": "execute_result",
          "data": {
            "text/plain": [
              "   RowNumber  CustomerId   Surname  CreditScore Geography  Gender  Age  \\\n",
              "0          1    15634602  Hargrave          619    France  Female   42   \n",
              "1          2    15647311      Hill          608     Spain  Female   41   \n",
              "2          3    15619304      Onio          502    France  Female   42   \n",
              "3          4    15701354      Boni          699    France  Female   39   \n",
              "4          5    15737888  Mitchell          850     Spain  Female   43   \n",
              "\n",
              "   Tenure    Balance  NumOfProducts  HasCrCard  IsActiveMember  \\\n",
              "0       2       0.00              1          1               1   \n",
              "1       1   83807.86              1          0               1   \n",
              "2       8  159660.80              3          1               0   \n",
              "3       1       0.00              2          0               0   \n",
              "4       2  125510.82              1          1               1   \n",
              "\n",
              "   EstimatedSalary  Exited  \n",
              "0        101348.88       1  \n",
              "1        112542.58       0  \n",
              "2        113931.57       1  \n",
              "3         93826.63       0  \n",
              "4         79084.10       0  "
            ],
            "text/html": [
              "\n",
              "  <div id=\"df-32cc3f74-7f6b-4826-80a9-c257e62045a8\" class=\"colab-df-container\">\n",
              "    <div>\n",
              "<style scoped>\n",
              "    .dataframe tbody tr th:only-of-type {\n",
              "        vertical-align: middle;\n",
              "    }\n",
              "\n",
              "    .dataframe tbody tr th {\n",
              "        vertical-align: top;\n",
              "    }\n",
              "\n",
              "    .dataframe thead th {\n",
              "        text-align: right;\n",
              "    }\n",
              "</style>\n",
              "<table border=\"1\" class=\"dataframe\">\n",
              "  <thead>\n",
              "    <tr style=\"text-align: right;\">\n",
              "      <th></th>\n",
              "      <th>RowNumber</th>\n",
              "      <th>CustomerId</th>\n",
              "      <th>Surname</th>\n",
              "      <th>CreditScore</th>\n",
              "      <th>Geography</th>\n",
              "      <th>Gender</th>\n",
              "      <th>Age</th>\n",
              "      <th>Tenure</th>\n",
              "      <th>Balance</th>\n",
              "      <th>NumOfProducts</th>\n",
              "      <th>HasCrCard</th>\n",
              "      <th>IsActiveMember</th>\n",
              "      <th>EstimatedSalary</th>\n",
              "      <th>Exited</th>\n",
              "    </tr>\n",
              "  </thead>\n",
              "  <tbody>\n",
              "    <tr>\n",
              "      <th>0</th>\n",
              "      <td>1</td>\n",
              "      <td>15634602</td>\n",
              "      <td>Hargrave</td>\n",
              "      <td>619</td>\n",
              "      <td>France</td>\n",
              "      <td>Female</td>\n",
              "      <td>42</td>\n",
              "      <td>2</td>\n",
              "      <td>0.00</td>\n",
              "      <td>1</td>\n",
              "      <td>1</td>\n",
              "      <td>1</td>\n",
              "      <td>101348.88</td>\n",
              "      <td>1</td>\n",
              "    </tr>\n",
              "    <tr>\n",
              "      <th>1</th>\n",
              "      <td>2</td>\n",
              "      <td>15647311</td>\n",
              "      <td>Hill</td>\n",
              "      <td>608</td>\n",
              "      <td>Spain</td>\n",
              "      <td>Female</td>\n",
              "      <td>41</td>\n",
              "      <td>1</td>\n",
              "      <td>83807.86</td>\n",
              "      <td>1</td>\n",
              "      <td>0</td>\n",
              "      <td>1</td>\n",
              "      <td>112542.58</td>\n",
              "      <td>0</td>\n",
              "    </tr>\n",
              "    <tr>\n",
              "      <th>2</th>\n",
              "      <td>3</td>\n",
              "      <td>15619304</td>\n",
              "      <td>Onio</td>\n",
              "      <td>502</td>\n",
              "      <td>France</td>\n",
              "      <td>Female</td>\n",
              "      <td>42</td>\n",
              "      <td>8</td>\n",
              "      <td>159660.80</td>\n",
              "      <td>3</td>\n",
              "      <td>1</td>\n",
              "      <td>0</td>\n",
              "      <td>113931.57</td>\n",
              "      <td>1</td>\n",
              "    </tr>\n",
              "    <tr>\n",
              "      <th>3</th>\n",
              "      <td>4</td>\n",
              "      <td>15701354</td>\n",
              "      <td>Boni</td>\n",
              "      <td>699</td>\n",
              "      <td>France</td>\n",
              "      <td>Female</td>\n",
              "      <td>39</td>\n",
              "      <td>1</td>\n",
              "      <td>0.00</td>\n",
              "      <td>2</td>\n",
              "      <td>0</td>\n",
              "      <td>0</td>\n",
              "      <td>93826.63</td>\n",
              "      <td>0</td>\n",
              "    </tr>\n",
              "    <tr>\n",
              "      <th>4</th>\n",
              "      <td>5</td>\n",
              "      <td>15737888</td>\n",
              "      <td>Mitchell</td>\n",
              "      <td>850</td>\n",
              "      <td>Spain</td>\n",
              "      <td>Female</td>\n",
              "      <td>43</td>\n",
              "      <td>2</td>\n",
              "      <td>125510.82</td>\n",
              "      <td>1</td>\n",
              "      <td>1</td>\n",
              "      <td>1</td>\n",
              "      <td>79084.10</td>\n",
              "      <td>0</td>\n",
              "    </tr>\n",
              "  </tbody>\n",
              "</table>\n",
              "</div>\n",
              "    <div class=\"colab-df-buttons\">\n",
              "\n",
              "  <div class=\"colab-df-container\">\n",
              "    <button class=\"colab-df-convert\" onclick=\"convertToInteractive('df-32cc3f74-7f6b-4826-80a9-c257e62045a8')\"\n",
              "            title=\"Convert this dataframe to an interactive table.\"\n",
              "            style=\"display:none;\">\n",
              "\n",
              "  <svg xmlns=\"http://www.w3.org/2000/svg\" height=\"24px\" viewBox=\"0 -960 960 960\">\n",
              "    <path d=\"M120-120v-720h720v720H120Zm60-500h600v-160H180v160Zm220 220h160v-160H400v160Zm0 220h160v-160H400v160ZM180-400h160v-160H180v160Zm440 0h160v-160H620v160ZM180-180h160v-160H180v160Zm440 0h160v-160H620v160Z\"/>\n",
              "  </svg>\n",
              "    </button>\n",
              "\n",
              "  <style>\n",
              "    .colab-df-container {\n",
              "      display:flex;\n",
              "      gap: 12px;\n",
              "    }\n",
              "\n",
              "    .colab-df-convert {\n",
              "      background-color: #E8F0FE;\n",
              "      border: none;\n",
              "      border-radius: 50%;\n",
              "      cursor: pointer;\n",
              "      display: none;\n",
              "      fill: #1967D2;\n",
              "      height: 32px;\n",
              "      padding: 0 0 0 0;\n",
              "      width: 32px;\n",
              "    }\n",
              "\n",
              "    .colab-df-convert:hover {\n",
              "      background-color: #E2EBFA;\n",
              "      box-shadow: 0px 1px 2px rgba(60, 64, 67, 0.3), 0px 1px 3px 1px rgba(60, 64, 67, 0.15);\n",
              "      fill: #174EA6;\n",
              "    }\n",
              "\n",
              "    .colab-df-buttons div {\n",
              "      margin-bottom: 4px;\n",
              "    }\n",
              "\n",
              "    [theme=dark] .colab-df-convert {\n",
              "      background-color: #3B4455;\n",
              "      fill: #D2E3FC;\n",
              "    }\n",
              "\n",
              "    [theme=dark] .colab-df-convert:hover {\n",
              "      background-color: #434B5C;\n",
              "      box-shadow: 0px 1px 3px 1px rgba(0, 0, 0, 0.15);\n",
              "      filter: drop-shadow(0px 1px 2px rgba(0, 0, 0, 0.3));\n",
              "      fill: #FFFFFF;\n",
              "    }\n",
              "  </style>\n",
              "\n",
              "    <script>\n",
              "      const buttonEl =\n",
              "        document.querySelector('#df-32cc3f74-7f6b-4826-80a9-c257e62045a8 button.colab-df-convert');\n",
              "      buttonEl.style.display =\n",
              "        google.colab.kernel.accessAllowed ? 'block' : 'none';\n",
              "\n",
              "      async function convertToInteractive(key) {\n",
              "        const element = document.querySelector('#df-32cc3f74-7f6b-4826-80a9-c257e62045a8');\n",
              "        const dataTable =\n",
              "          await google.colab.kernel.invokeFunction('convertToInteractive',\n",
              "                                                    [key], {});\n",
              "        if (!dataTable) return;\n",
              "\n",
              "        const docLinkHtml = 'Like what you see? Visit the ' +\n",
              "          '<a target=\"_blank\" href=https://colab.research.google.com/notebooks/data_table.ipynb>data table notebook</a>'\n",
              "          + ' to learn more about interactive tables.';\n",
              "        element.innerHTML = '';\n",
              "        dataTable['output_type'] = 'display_data';\n",
              "        await google.colab.output.renderOutput(dataTable, element);\n",
              "        const docLink = document.createElement('div');\n",
              "        docLink.innerHTML = docLinkHtml;\n",
              "        element.appendChild(docLink);\n",
              "      }\n",
              "    </script>\n",
              "  </div>\n",
              "\n",
              "\n",
              "    <div id=\"df-812729a9-4828-45e4-8471-7b2d47000946\">\n",
              "      <button class=\"colab-df-quickchart\" onclick=\"quickchart('df-812729a9-4828-45e4-8471-7b2d47000946')\"\n",
              "                title=\"Suggest charts\"\n",
              "                style=\"display:none;\">\n",
              "\n",
              "<svg xmlns=\"http://www.w3.org/2000/svg\" height=\"24px\"viewBox=\"0 0 24 24\"\n",
              "     width=\"24px\">\n",
              "    <g>\n",
              "        <path d=\"M19 3H5c-1.1 0-2 .9-2 2v14c0 1.1.9 2 2 2h14c1.1 0 2-.9 2-2V5c0-1.1-.9-2-2-2zM9 17H7v-7h2v7zm4 0h-2V7h2v10zm4 0h-2v-4h2v4z\"/>\n",
              "    </g>\n",
              "</svg>\n",
              "      </button>\n",
              "\n",
              "<style>\n",
              "  .colab-df-quickchart {\n",
              "      --bg-color: #E8F0FE;\n",
              "      --fill-color: #1967D2;\n",
              "      --hover-bg-color: #E2EBFA;\n",
              "      --hover-fill-color: #174EA6;\n",
              "      --disabled-fill-color: #AAA;\n",
              "      --disabled-bg-color: #DDD;\n",
              "  }\n",
              "\n",
              "  [theme=dark] .colab-df-quickchart {\n",
              "      --bg-color: #3B4455;\n",
              "      --fill-color: #D2E3FC;\n",
              "      --hover-bg-color: #434B5C;\n",
              "      --hover-fill-color: #FFFFFF;\n",
              "      --disabled-bg-color: #3B4455;\n",
              "      --disabled-fill-color: #666;\n",
              "  }\n",
              "\n",
              "  .colab-df-quickchart {\n",
              "    background-color: var(--bg-color);\n",
              "    border: none;\n",
              "    border-radius: 50%;\n",
              "    cursor: pointer;\n",
              "    display: none;\n",
              "    fill: var(--fill-color);\n",
              "    height: 32px;\n",
              "    padding: 0;\n",
              "    width: 32px;\n",
              "  }\n",
              "\n",
              "  .colab-df-quickchart:hover {\n",
              "    background-color: var(--hover-bg-color);\n",
              "    box-shadow: 0 1px 2px rgba(60, 64, 67, 0.3), 0 1px 3px 1px rgba(60, 64, 67, 0.15);\n",
              "    fill: var(--button-hover-fill-color);\n",
              "  }\n",
              "\n",
              "  .colab-df-quickchart-complete:disabled,\n",
              "  .colab-df-quickchart-complete:disabled:hover {\n",
              "    background-color: var(--disabled-bg-color);\n",
              "    fill: var(--disabled-fill-color);\n",
              "    box-shadow: none;\n",
              "  }\n",
              "\n",
              "  .colab-df-spinner {\n",
              "    border: 2px solid var(--fill-color);\n",
              "    border-color: transparent;\n",
              "    border-bottom-color: var(--fill-color);\n",
              "    animation:\n",
              "      spin 1s steps(1) infinite;\n",
              "  }\n",
              "\n",
              "  @keyframes spin {\n",
              "    0% {\n",
              "      border-color: transparent;\n",
              "      border-bottom-color: var(--fill-color);\n",
              "      border-left-color: var(--fill-color);\n",
              "    }\n",
              "    20% {\n",
              "      border-color: transparent;\n",
              "      border-left-color: var(--fill-color);\n",
              "      border-top-color: var(--fill-color);\n",
              "    }\n",
              "    30% {\n",
              "      border-color: transparent;\n",
              "      border-left-color: var(--fill-color);\n",
              "      border-top-color: var(--fill-color);\n",
              "      border-right-color: var(--fill-color);\n",
              "    }\n",
              "    40% {\n",
              "      border-color: transparent;\n",
              "      border-right-color: var(--fill-color);\n",
              "      border-top-color: var(--fill-color);\n",
              "    }\n",
              "    60% {\n",
              "      border-color: transparent;\n",
              "      border-right-color: var(--fill-color);\n",
              "    }\n",
              "    80% {\n",
              "      border-color: transparent;\n",
              "      border-right-color: var(--fill-color);\n",
              "      border-bottom-color: var(--fill-color);\n",
              "    }\n",
              "    90% {\n",
              "      border-color: transparent;\n",
              "      border-bottom-color: var(--fill-color);\n",
              "    }\n",
              "  }\n",
              "</style>\n",
              "\n",
              "      <script>\n",
              "        async function quickchart(key) {\n",
              "          const quickchartButtonEl =\n",
              "            document.querySelector('#' + key + ' button');\n",
              "          quickchartButtonEl.disabled = true;  // To prevent multiple clicks.\n",
              "          quickchartButtonEl.classList.add('colab-df-spinner');\n",
              "          try {\n",
              "            const charts = await google.colab.kernel.invokeFunction(\n",
              "                'suggestCharts', [key], {});\n",
              "          } catch (error) {\n",
              "            console.error('Error during call to suggestCharts:', error);\n",
              "          }\n",
              "          quickchartButtonEl.classList.remove('colab-df-spinner');\n",
              "          quickchartButtonEl.classList.add('colab-df-quickchart-complete');\n",
              "        }\n",
              "        (() => {\n",
              "          let quickchartButtonEl =\n",
              "            document.querySelector('#df-812729a9-4828-45e4-8471-7b2d47000946 button');\n",
              "          quickchartButtonEl.style.display =\n",
              "            google.colab.kernel.accessAllowed ? 'block' : 'none';\n",
              "        })();\n",
              "      </script>\n",
              "    </div>\n",
              "\n",
              "    </div>\n",
              "  </div>\n"
            ],
            "application/vnd.google.colaboratory.intrinsic+json": {
              "type": "dataframe",
              "variable_name": "df",
              "summary": "{\n  \"name\": \"df\",\n  \"rows\": 10000,\n  \"fields\": [\n    {\n      \"column\": \"RowNumber\",\n      \"properties\": {\n        \"dtype\": \"number\",\n        \"std\": 2886,\n        \"min\": 1,\n        \"max\": 10000,\n        \"num_unique_values\": 10000,\n        \"samples\": [\n          6253,\n          4685,\n          1732\n        ],\n        \"semantic_type\": \"\",\n        \"description\": \"\"\n      }\n    },\n    {\n      \"column\": \"CustomerId\",\n      \"properties\": {\n        \"dtype\": \"number\",\n        \"std\": 71936,\n        \"min\": 15565701,\n        \"max\": 15815690,\n        \"num_unique_values\": 10000,\n        \"samples\": [\n          15687492,\n          15736963,\n          15721730\n        ],\n        \"semantic_type\": \"\",\n        \"description\": \"\"\n      }\n    },\n    {\n      \"column\": \"Surname\",\n      \"properties\": {\n        \"dtype\": \"category\",\n        \"num_unique_values\": 2932,\n        \"samples\": [\n          \"McGuirk\",\n          \"Torkelson\",\n          \"Rapuluchukwu\"\n        ],\n        \"semantic_type\": \"\",\n        \"description\": \"\"\n      }\n    },\n    {\n      \"column\": \"CreditScore\",\n      \"properties\": {\n        \"dtype\": \"number\",\n        \"std\": 96,\n        \"min\": 350,\n        \"max\": 850,\n        \"num_unique_values\": 460,\n        \"samples\": [\n          754,\n          533,\n          744\n        ],\n        \"semantic_type\": \"\",\n        \"description\": \"\"\n      }\n    },\n    {\n      \"column\": \"Geography\",\n      \"properties\": {\n        \"dtype\": \"category\",\n        \"num_unique_values\": 3,\n        \"samples\": [\n          \"France\",\n          \"Spain\",\n          \"Germany\"\n        ],\n        \"semantic_type\": \"\",\n        \"description\": \"\"\n      }\n    },\n    {\n      \"column\": \"Gender\",\n      \"properties\": {\n        \"dtype\": \"category\",\n        \"num_unique_values\": 2,\n        \"samples\": [\n          \"Male\",\n          \"Female\"\n        ],\n        \"semantic_type\": \"\",\n        \"description\": \"\"\n      }\n    },\n    {\n      \"column\": \"Age\",\n      \"properties\": {\n        \"dtype\": \"number\",\n        \"std\": 10,\n        \"min\": 18,\n        \"max\": 92,\n        \"num_unique_values\": 70,\n        \"samples\": [\n          61,\n          42\n        ],\n        \"semantic_type\": \"\",\n        \"description\": \"\"\n      }\n    },\n    {\n      \"column\": \"Tenure\",\n      \"properties\": {\n        \"dtype\": \"number\",\n        \"std\": 2,\n        \"min\": 0,\n        \"max\": 10,\n        \"num_unique_values\": 11,\n        \"samples\": [\n          6,\n          2\n        ],\n        \"semantic_type\": \"\",\n        \"description\": \"\"\n      }\n    },\n    {\n      \"column\": \"Balance\",\n      \"properties\": {\n        \"dtype\": \"number\",\n        \"std\": 62397.40520238623,\n        \"min\": 0.0,\n        \"max\": 250898.09,\n        \"num_unique_values\": 6382,\n        \"samples\": [\n          117707.18,\n          133050.97\n        ],\n        \"semantic_type\": \"\",\n        \"description\": \"\"\n      }\n    },\n    {\n      \"column\": \"NumOfProducts\",\n      \"properties\": {\n        \"dtype\": \"number\",\n        \"std\": 0,\n        \"min\": 1,\n        \"max\": 4,\n        \"num_unique_values\": 4,\n        \"samples\": [\n          3,\n          4\n        ],\n        \"semantic_type\": \"\",\n        \"description\": \"\"\n      }\n    },\n    {\n      \"column\": \"HasCrCard\",\n      \"properties\": {\n        \"dtype\": \"number\",\n        \"std\": 0,\n        \"min\": 0,\n        \"max\": 1,\n        \"num_unique_values\": 2,\n        \"samples\": [\n          0,\n          1\n        ],\n        \"semantic_type\": \"\",\n        \"description\": \"\"\n      }\n    },\n    {\n      \"column\": \"IsActiveMember\",\n      \"properties\": {\n        \"dtype\": \"number\",\n        \"std\": 0,\n        \"min\": 0,\n        \"max\": 1,\n        \"num_unique_values\": 2,\n        \"samples\": [\n          0,\n          1\n        ],\n        \"semantic_type\": \"\",\n        \"description\": \"\"\n      }\n    },\n    {\n      \"column\": \"EstimatedSalary\",\n      \"properties\": {\n        \"dtype\": \"number\",\n        \"std\": 57510.49281769822,\n        \"min\": 11.58,\n        \"max\": 199992.48,\n        \"num_unique_values\": 9999,\n        \"samples\": [\n          100809.99,\n          95273.73\n        ],\n        \"semantic_type\": \"\",\n        \"description\": \"\"\n      }\n    },\n    {\n      \"column\": \"Exited\",\n      \"properties\": {\n        \"dtype\": \"number\",\n        \"std\": 0,\n        \"min\": 0,\n        \"max\": 1,\n        \"num_unique_values\": 2,\n        \"samples\": [\n          0,\n          1\n        ],\n        \"semantic_type\": \"\",\n        \"description\": \"\"\n      }\n    }\n  ]\n}"
            }
          },
          "metadata": {},
          "execution_count": 13
        }
      ]
    },
    {
      "cell_type": "markdown",
      "source": [
        "# Eksplorasi Data"
      ],
      "metadata": {
        "id": "JKqwlh77lJMu"
      }
    },
    {
      "cell_type": "code",
      "source": [
        "df.info()"
      ],
      "metadata": {
        "colab": {
          "base_uri": "https://localhost:8080/"
        },
        "id": "-6CzclgWlN5N",
        "outputId": "be1a5726-ef81-4798-8656-fc880a843638"
      },
      "execution_count": null,
      "outputs": [
        {
          "output_type": "stream",
          "name": "stdout",
          "text": [
            "<class 'pandas.core.frame.DataFrame'>\n",
            "RangeIndex: 10000 entries, 0 to 9999\n",
            "Data columns (total 14 columns):\n",
            " #   Column           Non-Null Count  Dtype  \n",
            "---  ------           --------------  -----  \n",
            " 0   RowNumber        10000 non-null  int64  \n",
            " 1   CustomerId       10000 non-null  int64  \n",
            " 2   Surname          10000 non-null  object \n",
            " 3   CreditScore      10000 non-null  int64  \n",
            " 4   Geography        10000 non-null  object \n",
            " 5   Gender           10000 non-null  object \n",
            " 6   Age              10000 non-null  int64  \n",
            " 7   Tenure           10000 non-null  int64  \n",
            " 8   Balance          10000 non-null  float64\n",
            " 9   NumOfProducts    10000 non-null  int64  \n",
            " 10  HasCrCard        10000 non-null  int64  \n",
            " 11  IsActiveMember   10000 non-null  int64  \n",
            " 12  EstimatedSalary  10000 non-null  float64\n",
            " 13  Exited           10000 non-null  int64  \n",
            "dtypes: float64(2), int64(9), object(3)\n",
            "memory usage: 1.1+ MB\n"
          ]
        }
      ]
    },
    {
      "cell_type": "code",
      "source": [
        "df.describe()"
      ],
      "metadata": {
        "colab": {
          "base_uri": "https://localhost:8080/",
          "height": 301
        },
        "id": "-ol43aIClQ0E",
        "outputId": "b98aedb5-42b7-41ec-e0b7-dc7cf0e0d1ee"
      },
      "execution_count": null,
      "outputs": [
        {
          "output_type": "execute_result",
          "data": {
            "text/plain": [
              "         RowNumber    CustomerId   CreditScore           Age        Tenure  \\\n",
              "count  10000.00000  1.000000e+04  10000.000000  10000.000000  10000.000000   \n",
              "mean    5000.50000  1.569094e+07    650.528800     38.921800      5.012800   \n",
              "std     2886.89568  7.193619e+04     96.653299     10.487806      2.892174   \n",
              "min        1.00000  1.556570e+07    350.000000     18.000000      0.000000   \n",
              "25%     2500.75000  1.562853e+07    584.000000     32.000000      3.000000   \n",
              "50%     5000.50000  1.569074e+07    652.000000     37.000000      5.000000   \n",
              "75%     7500.25000  1.575323e+07    718.000000     44.000000      7.000000   \n",
              "max    10000.00000  1.581569e+07    850.000000     92.000000     10.000000   \n",
              "\n",
              "             Balance  NumOfProducts    HasCrCard  IsActiveMember  \\\n",
              "count   10000.000000   10000.000000  10000.00000    10000.000000   \n",
              "mean    76485.889288       1.530200      0.70550        0.515100   \n",
              "std     62397.405202       0.581654      0.45584        0.499797   \n",
              "min         0.000000       1.000000      0.00000        0.000000   \n",
              "25%         0.000000       1.000000      0.00000        0.000000   \n",
              "50%     97198.540000       1.000000      1.00000        1.000000   \n",
              "75%    127644.240000       2.000000      1.00000        1.000000   \n",
              "max    250898.090000       4.000000      1.00000        1.000000   \n",
              "\n",
              "       EstimatedSalary        Exited  \n",
              "count     10000.000000  10000.000000  \n",
              "mean     100090.239881      0.203700  \n",
              "std       57510.492818      0.402769  \n",
              "min          11.580000      0.000000  \n",
              "25%       51002.110000      0.000000  \n",
              "50%      100193.915000      0.000000  \n",
              "75%      149388.247500      0.000000  \n",
              "max      199992.480000      1.000000  "
            ],
            "text/html": [
              "\n",
              "  <div id=\"df-bc09ca2e-96e6-4642-ae98-68b4cb1ddeb3\" class=\"colab-df-container\">\n",
              "    <div>\n",
              "<style scoped>\n",
              "    .dataframe tbody tr th:only-of-type {\n",
              "        vertical-align: middle;\n",
              "    }\n",
              "\n",
              "    .dataframe tbody tr th {\n",
              "        vertical-align: top;\n",
              "    }\n",
              "\n",
              "    .dataframe thead th {\n",
              "        text-align: right;\n",
              "    }\n",
              "</style>\n",
              "<table border=\"1\" class=\"dataframe\">\n",
              "  <thead>\n",
              "    <tr style=\"text-align: right;\">\n",
              "      <th></th>\n",
              "      <th>RowNumber</th>\n",
              "      <th>CustomerId</th>\n",
              "      <th>CreditScore</th>\n",
              "      <th>Age</th>\n",
              "      <th>Tenure</th>\n",
              "      <th>Balance</th>\n",
              "      <th>NumOfProducts</th>\n",
              "      <th>HasCrCard</th>\n",
              "      <th>IsActiveMember</th>\n",
              "      <th>EstimatedSalary</th>\n",
              "      <th>Exited</th>\n",
              "    </tr>\n",
              "  </thead>\n",
              "  <tbody>\n",
              "    <tr>\n",
              "      <th>count</th>\n",
              "      <td>10000.00000</td>\n",
              "      <td>1.000000e+04</td>\n",
              "      <td>10000.000000</td>\n",
              "      <td>10000.000000</td>\n",
              "      <td>10000.000000</td>\n",
              "      <td>10000.000000</td>\n",
              "      <td>10000.000000</td>\n",
              "      <td>10000.00000</td>\n",
              "      <td>10000.000000</td>\n",
              "      <td>10000.000000</td>\n",
              "      <td>10000.000000</td>\n",
              "    </tr>\n",
              "    <tr>\n",
              "      <th>mean</th>\n",
              "      <td>5000.50000</td>\n",
              "      <td>1.569094e+07</td>\n",
              "      <td>650.528800</td>\n",
              "      <td>38.921800</td>\n",
              "      <td>5.012800</td>\n",
              "      <td>76485.889288</td>\n",
              "      <td>1.530200</td>\n",
              "      <td>0.70550</td>\n",
              "      <td>0.515100</td>\n",
              "      <td>100090.239881</td>\n",
              "      <td>0.203700</td>\n",
              "    </tr>\n",
              "    <tr>\n",
              "      <th>std</th>\n",
              "      <td>2886.89568</td>\n",
              "      <td>7.193619e+04</td>\n",
              "      <td>96.653299</td>\n",
              "      <td>10.487806</td>\n",
              "      <td>2.892174</td>\n",
              "      <td>62397.405202</td>\n",
              "      <td>0.581654</td>\n",
              "      <td>0.45584</td>\n",
              "      <td>0.499797</td>\n",
              "      <td>57510.492818</td>\n",
              "      <td>0.402769</td>\n",
              "    </tr>\n",
              "    <tr>\n",
              "      <th>min</th>\n",
              "      <td>1.00000</td>\n",
              "      <td>1.556570e+07</td>\n",
              "      <td>350.000000</td>\n",
              "      <td>18.000000</td>\n",
              "      <td>0.000000</td>\n",
              "      <td>0.000000</td>\n",
              "      <td>1.000000</td>\n",
              "      <td>0.00000</td>\n",
              "      <td>0.000000</td>\n",
              "      <td>11.580000</td>\n",
              "      <td>0.000000</td>\n",
              "    </tr>\n",
              "    <tr>\n",
              "      <th>25%</th>\n",
              "      <td>2500.75000</td>\n",
              "      <td>1.562853e+07</td>\n",
              "      <td>584.000000</td>\n",
              "      <td>32.000000</td>\n",
              "      <td>3.000000</td>\n",
              "      <td>0.000000</td>\n",
              "      <td>1.000000</td>\n",
              "      <td>0.00000</td>\n",
              "      <td>0.000000</td>\n",
              "      <td>51002.110000</td>\n",
              "      <td>0.000000</td>\n",
              "    </tr>\n",
              "    <tr>\n",
              "      <th>50%</th>\n",
              "      <td>5000.50000</td>\n",
              "      <td>1.569074e+07</td>\n",
              "      <td>652.000000</td>\n",
              "      <td>37.000000</td>\n",
              "      <td>5.000000</td>\n",
              "      <td>97198.540000</td>\n",
              "      <td>1.000000</td>\n",
              "      <td>1.00000</td>\n",
              "      <td>1.000000</td>\n",
              "      <td>100193.915000</td>\n",
              "      <td>0.000000</td>\n",
              "    </tr>\n",
              "    <tr>\n",
              "      <th>75%</th>\n",
              "      <td>7500.25000</td>\n",
              "      <td>1.575323e+07</td>\n",
              "      <td>718.000000</td>\n",
              "      <td>44.000000</td>\n",
              "      <td>7.000000</td>\n",
              "      <td>127644.240000</td>\n",
              "      <td>2.000000</td>\n",
              "      <td>1.00000</td>\n",
              "      <td>1.000000</td>\n",
              "      <td>149388.247500</td>\n",
              "      <td>0.000000</td>\n",
              "    </tr>\n",
              "    <tr>\n",
              "      <th>max</th>\n",
              "      <td>10000.00000</td>\n",
              "      <td>1.581569e+07</td>\n",
              "      <td>850.000000</td>\n",
              "      <td>92.000000</td>\n",
              "      <td>10.000000</td>\n",
              "      <td>250898.090000</td>\n",
              "      <td>4.000000</td>\n",
              "      <td>1.00000</td>\n",
              "      <td>1.000000</td>\n",
              "      <td>199992.480000</td>\n",
              "      <td>1.000000</td>\n",
              "    </tr>\n",
              "  </tbody>\n",
              "</table>\n",
              "</div>\n",
              "    <div class=\"colab-df-buttons\">\n",
              "\n",
              "  <div class=\"colab-df-container\">\n",
              "    <button class=\"colab-df-convert\" onclick=\"convertToInteractive('df-bc09ca2e-96e6-4642-ae98-68b4cb1ddeb3')\"\n",
              "            title=\"Convert this dataframe to an interactive table.\"\n",
              "            style=\"display:none;\">\n",
              "\n",
              "  <svg xmlns=\"http://www.w3.org/2000/svg\" height=\"24px\" viewBox=\"0 -960 960 960\">\n",
              "    <path d=\"M120-120v-720h720v720H120Zm60-500h600v-160H180v160Zm220 220h160v-160H400v160Zm0 220h160v-160H400v160ZM180-400h160v-160H180v160Zm440 0h160v-160H620v160ZM180-180h160v-160H180v160Zm440 0h160v-160H620v160Z\"/>\n",
              "  </svg>\n",
              "    </button>\n",
              "\n",
              "  <style>\n",
              "    .colab-df-container {\n",
              "      display:flex;\n",
              "      gap: 12px;\n",
              "    }\n",
              "\n",
              "    .colab-df-convert {\n",
              "      background-color: #E8F0FE;\n",
              "      border: none;\n",
              "      border-radius: 50%;\n",
              "      cursor: pointer;\n",
              "      display: none;\n",
              "      fill: #1967D2;\n",
              "      height: 32px;\n",
              "      padding: 0 0 0 0;\n",
              "      width: 32px;\n",
              "    }\n",
              "\n",
              "    .colab-df-convert:hover {\n",
              "      background-color: #E2EBFA;\n",
              "      box-shadow: 0px 1px 2px rgba(60, 64, 67, 0.3), 0px 1px 3px 1px rgba(60, 64, 67, 0.15);\n",
              "      fill: #174EA6;\n",
              "    }\n",
              "\n",
              "    .colab-df-buttons div {\n",
              "      margin-bottom: 4px;\n",
              "    }\n",
              "\n",
              "    [theme=dark] .colab-df-convert {\n",
              "      background-color: #3B4455;\n",
              "      fill: #D2E3FC;\n",
              "    }\n",
              "\n",
              "    [theme=dark] .colab-df-convert:hover {\n",
              "      background-color: #434B5C;\n",
              "      box-shadow: 0px 1px 3px 1px rgba(0, 0, 0, 0.15);\n",
              "      filter: drop-shadow(0px 1px 2px rgba(0, 0, 0, 0.3));\n",
              "      fill: #FFFFFF;\n",
              "    }\n",
              "  </style>\n",
              "\n",
              "    <script>\n",
              "      const buttonEl =\n",
              "        document.querySelector('#df-bc09ca2e-96e6-4642-ae98-68b4cb1ddeb3 button.colab-df-convert');\n",
              "      buttonEl.style.display =\n",
              "        google.colab.kernel.accessAllowed ? 'block' : 'none';\n",
              "\n",
              "      async function convertToInteractive(key) {\n",
              "        const element = document.querySelector('#df-bc09ca2e-96e6-4642-ae98-68b4cb1ddeb3');\n",
              "        const dataTable =\n",
              "          await google.colab.kernel.invokeFunction('convertToInteractive',\n",
              "                                                    [key], {});\n",
              "        if (!dataTable) return;\n",
              "\n",
              "        const docLinkHtml = 'Like what you see? Visit the ' +\n",
              "          '<a target=\"_blank\" href=https://colab.research.google.com/notebooks/data_table.ipynb>data table notebook</a>'\n",
              "          + ' to learn more about interactive tables.';\n",
              "        element.innerHTML = '';\n",
              "        dataTable['output_type'] = 'display_data';\n",
              "        await google.colab.output.renderOutput(dataTable, element);\n",
              "        const docLink = document.createElement('div');\n",
              "        docLink.innerHTML = docLinkHtml;\n",
              "        element.appendChild(docLink);\n",
              "      }\n",
              "    </script>\n",
              "  </div>\n",
              "\n",
              "\n",
              "    <div id=\"df-09d985b6-08db-49b3-a54f-6e77613e408f\">\n",
              "      <button class=\"colab-df-quickchart\" onclick=\"quickchart('df-09d985b6-08db-49b3-a54f-6e77613e408f')\"\n",
              "                title=\"Suggest charts\"\n",
              "                style=\"display:none;\">\n",
              "\n",
              "<svg xmlns=\"http://www.w3.org/2000/svg\" height=\"24px\"viewBox=\"0 0 24 24\"\n",
              "     width=\"24px\">\n",
              "    <g>\n",
              "        <path d=\"M19 3H5c-1.1 0-2 .9-2 2v14c0 1.1.9 2 2 2h14c1.1 0 2-.9 2-2V5c0-1.1-.9-2-2-2zM9 17H7v-7h2v7zm4 0h-2V7h2v10zm4 0h-2v-4h2v4z\"/>\n",
              "    </g>\n",
              "</svg>\n",
              "      </button>\n",
              "\n",
              "<style>\n",
              "  .colab-df-quickchart {\n",
              "      --bg-color: #E8F0FE;\n",
              "      --fill-color: #1967D2;\n",
              "      --hover-bg-color: #E2EBFA;\n",
              "      --hover-fill-color: #174EA6;\n",
              "      --disabled-fill-color: #AAA;\n",
              "      --disabled-bg-color: #DDD;\n",
              "  }\n",
              "\n",
              "  [theme=dark] .colab-df-quickchart {\n",
              "      --bg-color: #3B4455;\n",
              "      --fill-color: #D2E3FC;\n",
              "      --hover-bg-color: #434B5C;\n",
              "      --hover-fill-color: #FFFFFF;\n",
              "      --disabled-bg-color: #3B4455;\n",
              "      --disabled-fill-color: #666;\n",
              "  }\n",
              "\n",
              "  .colab-df-quickchart {\n",
              "    background-color: var(--bg-color);\n",
              "    border: none;\n",
              "    border-radius: 50%;\n",
              "    cursor: pointer;\n",
              "    display: none;\n",
              "    fill: var(--fill-color);\n",
              "    height: 32px;\n",
              "    padding: 0;\n",
              "    width: 32px;\n",
              "  }\n",
              "\n",
              "  .colab-df-quickchart:hover {\n",
              "    background-color: var(--hover-bg-color);\n",
              "    box-shadow: 0 1px 2px rgba(60, 64, 67, 0.3), 0 1px 3px 1px rgba(60, 64, 67, 0.15);\n",
              "    fill: var(--button-hover-fill-color);\n",
              "  }\n",
              "\n",
              "  .colab-df-quickchart-complete:disabled,\n",
              "  .colab-df-quickchart-complete:disabled:hover {\n",
              "    background-color: var(--disabled-bg-color);\n",
              "    fill: var(--disabled-fill-color);\n",
              "    box-shadow: none;\n",
              "  }\n",
              "\n",
              "  .colab-df-spinner {\n",
              "    border: 2px solid var(--fill-color);\n",
              "    border-color: transparent;\n",
              "    border-bottom-color: var(--fill-color);\n",
              "    animation:\n",
              "      spin 1s steps(1) infinite;\n",
              "  }\n",
              "\n",
              "  @keyframes spin {\n",
              "    0% {\n",
              "      border-color: transparent;\n",
              "      border-bottom-color: var(--fill-color);\n",
              "      border-left-color: var(--fill-color);\n",
              "    }\n",
              "    20% {\n",
              "      border-color: transparent;\n",
              "      border-left-color: var(--fill-color);\n",
              "      border-top-color: var(--fill-color);\n",
              "    }\n",
              "    30% {\n",
              "      border-color: transparent;\n",
              "      border-left-color: var(--fill-color);\n",
              "      border-top-color: var(--fill-color);\n",
              "      border-right-color: var(--fill-color);\n",
              "    }\n",
              "    40% {\n",
              "      border-color: transparent;\n",
              "      border-right-color: var(--fill-color);\n",
              "      border-top-color: var(--fill-color);\n",
              "    }\n",
              "    60% {\n",
              "      border-color: transparent;\n",
              "      border-right-color: var(--fill-color);\n",
              "    }\n",
              "    80% {\n",
              "      border-color: transparent;\n",
              "      border-right-color: var(--fill-color);\n",
              "      border-bottom-color: var(--fill-color);\n",
              "    }\n",
              "    90% {\n",
              "      border-color: transparent;\n",
              "      border-bottom-color: var(--fill-color);\n",
              "    }\n",
              "  }\n",
              "</style>\n",
              "\n",
              "      <script>\n",
              "        async function quickchart(key) {\n",
              "          const quickchartButtonEl =\n",
              "            document.querySelector('#' + key + ' button');\n",
              "          quickchartButtonEl.disabled = true;  // To prevent multiple clicks.\n",
              "          quickchartButtonEl.classList.add('colab-df-spinner');\n",
              "          try {\n",
              "            const charts = await google.colab.kernel.invokeFunction(\n",
              "                'suggestCharts', [key], {});\n",
              "          } catch (error) {\n",
              "            console.error('Error during call to suggestCharts:', error);\n",
              "          }\n",
              "          quickchartButtonEl.classList.remove('colab-df-spinner');\n",
              "          quickchartButtonEl.classList.add('colab-df-quickchart-complete');\n",
              "        }\n",
              "        (() => {\n",
              "          let quickchartButtonEl =\n",
              "            document.querySelector('#df-09d985b6-08db-49b3-a54f-6e77613e408f button');\n",
              "          quickchartButtonEl.style.display =\n",
              "            google.colab.kernel.accessAllowed ? 'block' : 'none';\n",
              "        })();\n",
              "      </script>\n",
              "    </div>\n",
              "\n",
              "    </div>\n",
              "  </div>\n"
            ],
            "application/vnd.google.colaboratory.intrinsic+json": {
              "type": "dataframe",
              "summary": "{\n  \"name\": \"df\",\n  \"rows\": 8,\n  \"fields\": [\n    {\n      \"column\": \"RowNumber\",\n      \"properties\": {\n        \"dtype\": \"number\",\n        \"std\": 3603.743586536124,\n        \"min\": 1.0,\n        \"max\": 10000.0,\n        \"num_unique_values\": 6,\n        \"samples\": [\n          10000.0,\n          5000.5,\n          7500.25\n        ],\n        \"semantic_type\": \"\",\n        \"description\": \"\"\n      }\n    },\n    {\n      \"column\": \"CustomerId\",\n      \"properties\": {\n        \"dtype\": \"number\",\n        \"std\": 7244870.561655487,\n        \"min\": 10000.0,\n        \"max\": 15815690.0,\n        \"num_unique_values\": 8,\n        \"samples\": [\n          15690940.5694,\n          15690738.0,\n          10000.0\n        ],\n        \"semantic_type\": \"\",\n        \"description\": \"\"\n      }\n    },\n    {\n      \"column\": \"CreditScore\",\n      \"properties\": {\n        \"dtype\": \"number\",\n        \"std\": 3346.722396870626,\n        \"min\": 96.65329873613061,\n        \"max\": 10000.0,\n        \"num_unique_values\": 8,\n        \"samples\": [\n          650.5288,\n          652.0,\n          10000.0\n        ],\n        \"semantic_type\": \"\",\n        \"description\": \"\"\n      }\n    },\n    {\n      \"column\": \"Age\",\n      \"properties\": {\n        \"dtype\": \"number\",\n        \"std\": 3521.859127755016,\n        \"min\": 10.487806451704591,\n        \"max\": 10000.0,\n        \"num_unique_values\": 8,\n        \"samples\": [\n          38.9218,\n          37.0,\n          10000.0\n        ],\n        \"semantic_type\": \"\",\n        \"description\": \"\"\n      }\n    },\n    {\n      \"column\": \"Tenure\",\n      \"properties\": {\n        \"dtype\": \"number\",\n        \"std\": 3533.873203213367,\n        \"min\": 0.0,\n        \"max\": 10000.0,\n        \"num_unique_values\": 8,\n        \"samples\": [\n          5.0128,\n          5.0,\n          10000.0\n        ],\n        \"semantic_type\": \"\",\n        \"description\": \"\"\n      }\n    },\n    {\n      \"column\": \"Balance\",\n      \"properties\": {\n        \"dtype\": \"number\",\n        \"std\": 84316.21503683121,\n        \"min\": 0.0,\n        \"max\": 250898.09,\n        \"num_unique_values\": 7,\n        \"samples\": [\n          10000.0,\n          76485.889288,\n          127644.24\n        ],\n        \"semantic_type\": \"\",\n        \"description\": \"\"\n      }\n    },\n    {\n      \"column\": \"NumOfProducts\",\n      \"properties\": {\n        \"dtype\": \"number\",\n        \"std\": 3534.972835009293,\n        \"min\": 0.5816543579989936,\n        \"max\": 10000.0,\n        \"num_unique_values\": 6,\n        \"samples\": [\n          10000.0,\n          1.5302,\n          4.0\n        ],\n        \"semantic_type\": \"\",\n        \"description\": \"\"\n      }\n    },\n    {\n      \"column\": \"HasCrCard\",\n      \"properties\": {\n        \"dtype\": \"number\",\n        \"std\": 3535.323751385342,\n        \"min\": 0.0,\n        \"max\": 10000.0,\n        \"num_unique_values\": 5,\n        \"samples\": [\n          0.7055,\n          1.0,\n          0.45584046447514237\n        ],\n        \"semantic_type\": \"\",\n        \"description\": \"\"\n      }\n    },\n    {\n      \"column\": \"IsActiveMember\",\n      \"properties\": {\n        \"dtype\": \"number\",\n        \"std\": 3535.33114750997,\n        \"min\": 0.0,\n        \"max\": 10000.0,\n        \"num_unique_values\": 5,\n        \"samples\": [\n          0.5151,\n          1.0,\n          0.4997969284589202\n        ],\n        \"semantic_type\": \"\",\n        \"description\": \"\"\n      }\n    },\n    {\n      \"column\": \"EstimatedSalary\",\n      \"properties\": {\n        \"dtype\": \"number\",\n        \"std\": 68211.65700170657,\n        \"min\": 11.58,\n        \"max\": 199992.48,\n        \"num_unique_values\": 8,\n        \"samples\": [\n          100090.239881,\n          100193.915,\n          10000.0\n        ],\n        \"semantic_type\": \"\",\n        \"description\": \"\"\n      }\n    },\n    {\n      \"column\": \"Exited\",\n      \"properties\": {\n        \"dtype\": \"number\",\n        \"std\": 3535.452783887065,\n        \"min\": 0.0,\n        \"max\": 10000.0,\n        \"num_unique_values\": 5,\n        \"samples\": [\n          0.2037,\n          1.0,\n          0.40276858399484955\n        ],\n        \"semantic_type\": \"\",\n        \"description\": \"\"\n      }\n    }\n  ]\n}"
            }
          },
          "metadata": {},
          "execution_count": 15
        }
      ]
    },
    {
      "cell_type": "code",
      "source": [
        "# Cek missing value\n",
        "print(\"Jumlah missing values per kolom:\")\n",
        "print(df.isnull().sum())\n",
        "\n",
        "# Menghitung jumlah data duplikat\n",
        "print(\"\\nJumlah data duplikat:\", df.duplicated().sum())"
      ],
      "metadata": {
        "colab": {
          "base_uri": "https://localhost:8080/"
        },
        "id": "tThaUs-0lTTp",
        "outputId": "262fd938-4a9e-40e3-9093-2abf79a983d8"
      },
      "execution_count": null,
      "outputs": [
        {
          "output_type": "stream",
          "name": "stdout",
          "text": [
            "Jumlah missing values per kolom:\n",
            "RowNumber          0\n",
            "CustomerId         0\n",
            "Surname            0\n",
            "CreditScore        0\n",
            "Geography          0\n",
            "Gender             0\n",
            "Age                0\n",
            "Tenure             0\n",
            "Balance            0\n",
            "NumOfProducts      0\n",
            "HasCrCard          0\n",
            "IsActiveMember     0\n",
            "EstimatedSalary    0\n",
            "Exited             0\n",
            "dtype: int64\n",
            "\n",
            "Jumlah data duplikat: 0\n"
          ]
        }
      ]
    },
    {
      "cell_type": "markdown",
      "source": [
        "# Visualisasi Data"
      ],
      "metadata": {
        "id": "8TX6Ejstqbp_"
      }
    },
    {
      "cell_type": "markdown",
      "source": [
        "Seberapa banyak pelanggan yang churn vs. yang tidak?"
      ],
      "metadata": {
        "id": "JOxuAD-cs3j1"
      }
    },
    {
      "cell_type": "code",
      "source": [
        "# style visualisasi\n",
        "sns.set_style('whitegrid')\n",
        "\n",
        "# Visualisasi proporsi pelanggan yang 'Exited' (churn)\n",
        "plt.figure(figsize=(8, 6))\n",
        "sns.countplot(x='Exited', data=df)\n",
        "plt.title('Proporsi Pelanggan Churn vs Non-Churn')\n",
        "plt.xticks([0, 1], ['Non-Churn', 'Churn'])\n",
        "plt.ylabel('Jumlah Pelanggan')\n",
        "plt.show()\n",
        "\n",
        "# Tampilkan dalam bentuk persentase\n",
        "churn_percentage = df['Exited'].value_counts(normalize=True) * 100\n",
        "print(f\"Persentase Churn: {churn_percentage[1]:.2f}%\")\n",
        "print(f\"Persentase Non-Churn: {churn_percentage[0]:.2f}%\")"
      ],
      "metadata": {
        "colab": {
          "base_uri": "https://localhost:8080/",
          "height": 599
        },
        "id": "rBpp_FPLlbSr",
        "outputId": "7616a017-9000-4e32-8b17-b975f47b7ea1"
      },
      "execution_count": null,
      "outputs": [
        {
          "output_type": "display_data",
          "data": {
            "text/plain": [
              "<Figure size 800x600 with 1 Axes>"
            ],
            "image/png": "[encoded data removed]"
          },
          "metadata": {}
        },
        {
          "output_type": "stream",
          "name": "stdout",
          "text": [
            "Persentase Churn: 20.37%\n",
            "Persentase Non-Churn: 79.63%\n"
          ]
        }
      ]
    },
    {
      "cell_type": "markdown",
      "source": [
        "perbandingan 80/20, data ini dianggap tidak seimbang (imbalanced)."
      ],
      "metadata": {
        "id": "I1o4Q5RVFlTU"
      }
    },
    {
      "cell_type": "markdown",
      "source": [
        "Apakah churn berbeda berdasarkan Geography, Gender, dll?"
      ],
      "metadata": {
        "id": "q_45QfUzs67l"
      }
    },
    {
      "cell_type": "code",
      "source": [
        "# Churn berdasarkan Geografi\n",
        "plt.figure(figsize=(10, 6))\n",
        "sns.countplot(x='Geography', hue='Exited', data=df)\n",
        "plt.title('Distribusi Churn Berdasarkan Negara')\n",
        "plt.legend(['Non-Churn', 'Churn'])\n",
        "plt.show()\n",
        "\n",
        "# Churn berdasarkan Gender\n",
        "plt.figure(figsize=(8, 6))\n",
        "sns.countplot(x='Gender', hue='Exited', data=df)\n",
        "plt.title('Distribusi Churn Berdasarkan Gender')\n",
        "plt.legend(['Non-Churn', 'Churn'])\n",
        "plt.show()"
      ],
      "metadata": {
        "colab": {
          "base_uri": "https://localhost:8080/",
          "height": 1000
        },
        "id": "YRidNsDOr7Nr",
        "outputId": "44fb16a4-154b-4ea5-8865-c743a4adc3b7"
      },
      "execution_count": null,
      "outputs": [
        {
          "output_type": "display_data",
          "data": {
            "text/plain": [
              "<Figure size 1000x600 with 1 Axes>"
            ],
            "image/png": "[encoded data removed]"
          },
          "metadata": {}
        },
        {
          "output_type": "display_data",
          "data": {
            "text/plain": [
              "<Figure size 800x600 with 1 Axes>"
            ],
            "image/png": "[encoded data removed]"
          },
          "metadata": {}
        }
      ]
    },
    {
      "cell_type": "markdown",
      "source": [
        "Insight:\n",
        "* Secara jumlah total, Prancis (France) adalah negara dengan nasabah terbanyak, diikuti Jerman (Germany) dan Spanyol (Spain).\n",
        "* Jerman: Nah, ini dia yang paling menarik! Meskipun jumlah nasabahnya lebih sedikit dari Prancis, bar oranye (Churn) di Jerman hampir setinggi di Prancis. Ini artinya, secara persentase, tingkat churn nasabah di Jerman jauh lebih tinggi dibandingkan dua negara lainnya.\n",
        "\n",
        "Kalau berdasarkan Genre, cewe lebih banyak churn. Kenapa ya?"
      ],
      "metadata": {
        "id": "cdfUeUSUFz8T"
      }
    },
    {
      "cell_type": "code",
      "source": [
        "# Distribusi Umur untuk pelanggan Churn vs Non-Churn\n",
        "plt.figure(figsize=(10, 6))\n",
        "sns.histplot(data=df, x='Age', hue='Exited', multiple='stack', kde=True)\n",
        "plt.title('Distribusi Umur vs Churn')\n",
        "plt.legend(['Churn', 'Non-Churn'])\n",
        "plt.show()\n",
        "\n",
        "# Distribusi Saldo untuk pelanggan Churn vs Non-Churn\n",
        "plt.figure(figsize=(10, 6))\n",
        "sns.boxplot(x='Exited', y='Balance', data=df)\n",
        "plt.title('Distribusi Saldo vs Churn')\n",
        "plt.xticks([0, 1], ['Non-Churn', 'Churn'])\n",
        "plt.show()"
      ],
      "metadata": {
        "colab": {
          "base_uri": "https://localhost:8080/",
          "height": 1000
        },
        "id": "UbePSkm9sLPO",
        "outputId": "71c3fd88-20cf-4256-f1f3-176e64163d22"
      },
      "execution_count": null,
      "outputs": [
        {
          "output_type": "display_data",
          "data": {
            "text/plain": [
              "<Figure size 1000x600 with 1 Axes>"
            ],
            "image/png": "[encoded data removed]"
          },
          "metadata": {}
        },
        {
          "output_type": "display_data",
          "data": {
            "text/plain": [
              "<Figure size 1000x600 with 1 Axes>"
            ],
            "image/png": "[encoded data removed]"
          },
          "metadata": {}
        }
      ]
    },
    {
      "cell_type": "markdown",
      "source": [
        "Dari Histogram\n",
        "* Distribusi nasabah yang Non-Churn (biru) puncaknya ada di rentang usia 30-40 tahun. Ini adalah basis nasabah loyalmu.\n",
        "* Distribusi nasabah yang Churn (oranye) terlihat lebih landai dan puncaknya bergeser ke kanan, yaitu di rentang usia 40-55 tahun. Ada juga lonjakan kecil churn pada nasabah yang lebih tua (di atas 65 tahun).\n",
        "\n",
        "Insight: Bank ini tampaknya sangat baik dalam mengakuisisi dan melayani nasabah di usia produktif awal (30-an), namun gagal mempertahankan mereka saat memasuki fase kehidupan yang lebih mapan (40-an dan 50-an). **Trus kenapa ya nasabah di rentang usia 40-55 tahun pergi?** Apakah karna kompetitor lain lebih bisa menyediakan layanan atau produk yang lebih baik untuk segmen ini?\n",
        "\n",
        "**Distribusi Saldo vs Churn**\n",
        "Apa yang kita lihat?\n",
        "Di grup Non-Churn, banyak banget nasabah yang saldonya nol. Makanya boxplotnya lebar dan mulai dari 0.\n",
        "Di grup Churn, saldo mereka cenderung lebih tinggi. Median saldo di sini jauh lebih gede, dan hampir nggak ada nasabah churn yang saldonya nol.\n",
        "\n",
        "Insightnya?\n",
        "\n",
        "Nasabah saldo nol malah lebih setia (mereka nggak churn).\n",
        "\n",
        "Yang cabut justru mereka yang punya saldo, alias nasabah aktif dan bernilai.\n",
        "\n",
        "Kenapa bisa begitu?\n",
        "\n",
        "Nasabah saldo nol kayaknya cuma “diam di rekening”, nggak kepikiran mau nutup karena nggak kena biaya admin atau emang udah lama nggak aktif.\n",
        "\n",
        "Sementara nasabah yang punya saldo dan malah pergi itu sinyal serius. Mereka cukup aktif dan pasti punya alasan buat pindahin uangnya ke bank lain.\n",
        "\n",
        "👉 Intinya, bank harus fokus nge-keep nasabah yang saldo-nya gede biar mereka nggak kabur!"
      ],
      "metadata": {
        "id": "uzTOlpC6GbD4"
      }
    },
    {
      "cell_type": "markdown",
      "source": [
        "# Pemrosesan Data"
      ],
      "metadata": {
        "id": "0T9q0DY779mZ"
      }
    },
    {
      "cell_type": "code",
      "source": [
        "df_processed = df.copy()\n",
        "\n",
        "# Menghapus kolom yang tidak relevan\n",
        "# RowNumber, CustomerId, dan Surname adalah pengenal unik dan tidak mempengaruhi churn\n",
        "columns_to_drop = ['RowNumber', 'CustomerId', 'Surname']\n",
        "df_processed = df_processed.drop(columns=columns_to_drop)\n",
        "\n",
        "print(\"Berhasil menghapus kolom yang tidak relevan.\")\n",
        "print(f\"Kolom yang dihapus: {columns_to_drop}\")"
      ],
      "metadata": {
        "colab": {
          "base_uri": "https://localhost:8080/"
        },
        "id": "XQvr7sVR82_t",
        "outputId": "39667c37-0be9-4da9-ac94-8408491d862b"
      },
      "execution_count": null,
      "outputs": [
        {
          "output_type": "stream",
          "name": "stdout",
          "text": [
            "Berhasil menghapus kolom yang tidak relevan.\n",
            "Kolom yang dihapus: ['RowNumber', 'CustomerId', 'Surname']\n"
          ]
        }
      ]
    },
    {
      "cell_type": "code",
      "source": [
        "# One-Hot Encoding kategorical untuk kolom 'Geography' dan 'Gender'\n",
        "df_model = pd.get_dummies(df_processed, columns=['Geography', 'Gender'], drop_first=True)\n",
        "\n",
        "print(\"\\nBerhasil melakukan One-Hot Encoding pada kolom kategori.\")\n",
        "\n",
        "\n",
        "# --- Verifikasi Hasil ---\n",
        "print(\"\\nDataFrame setelah diproses (df_model):\")\n",
        "display(df_model.head())\n",
        "\n",
        "# Cek info untuk memastikan semua kolom sudah dalam format numerik\n",
        "print(\"\\nInfo dari DataFrame baru:\")\n",
        "df_model.info()"
      ],
      "metadata": {
        "colab": {
          "base_uri": "https://localhost:8080/",
          "height": 640
        },
        "id": "rekvfsit9IKf",
        "outputId": "ddc70658-2800-4fff-a9c9-1832eb837eb5"
      },
      "execution_count": null,
      "outputs": [
        {
          "output_type": "stream",
          "name": "stdout",
          "text": [
            "\n",
            "Berhasil melakukan One-Hot Encoding pada kolom kategori.\n",
            "\n",
            "DataFrame setelah diproses (df_model):\n"
          ]
        },
        {
          "output_type": "display_data",
          "data": {
            "text/plain": [
              "   CreditScore  Age  Tenure    Balance  NumOfProducts  HasCrCard  \\\n",
              "0          619   42       2       0.00              1          1   \n",
              "1          608   41       1   83807.86              1          0   \n",
              "2          502   42       8  159660.80              3          1   \n",
              "3          699   39       1       0.00              2          0   \n",
              "4          850   43       2  125510.82              1          1   \n",
              "\n",
              "   IsActiveMember  EstimatedSalary  Exited  Geography_Germany  \\\n",
              "0               1        101348.88       1              False   \n",
              "1               1        112542.58       0              False   \n",
              "2               0        113931.57       1              False   \n",
              "3               0         93826.63       0              False   \n",
              "4               1         79084.10       0              False   \n",
              "\n",
              "   Geography_Spain  Gender_Male  \n",
              "0            False        False  \n",
              "1             True        False  \n",
              "2            False        False  \n",
              "3            False        False  \n",
              "4             True        False  "
            ],
            "text/html": [
              "\n",
              "  <div id=\"df-ecd6fa26-feed-4981-9490-05c159d6db77\" class=\"colab-df-container\">\n",
              "    <div>\n",
              "<style scoped>\n",
              "    .dataframe tbody tr th:only-of-type {\n",
              "        vertical-align: middle;\n",
              "    }\n",
              "\n",
              "    .dataframe tbody tr th {\n",
              "        vertical-align: top;\n",
              "    }\n",
              "\n",
              "    .dataframe thead th {\n",
              "        text-align: right;\n",
              "    }\n",
              "</style>\n",
              "<table border=\"1\" class=\"dataframe\">\n",
              "  <thead>\n",
              "    <tr style=\"text-align: right;\">\n",
              "      <th></th>\n",
              "      <th>CreditScore</th>\n",
              "      <th>Age</th>\n",
              "      <th>Tenure</th>\n",
              "      <th>Balance</th>\n",
              "      <th>NumOfProducts</th>\n",
              "      <th>HasCrCard</th>\n",
              "      <th>IsActiveMember</th>\n",
              "      <th>EstimatedSalary</th>\n",
              "      <th>Exited</th>\n",
              "      <th>Geography_Germany</th>\n",
              "      <th>Geography_Spain</th>\n",
              "      <th>Gender_Male</th>\n",
              "    </tr>\n",
              "  </thead>\n",
              "  <tbody>\n",
              "    <tr>\n",
              "      <th>0</th>\n",
              "      <td>619</td>\n",
              "      <td>42</td>\n",
              "      <td>2</td>\n",
              "      <td>0.00</td>\n",
              "      <td>1</td>\n",
              "      <td>1</td>\n",
              "      <td>1</td>\n",
              "      <td>101348.88</td>\n",
              "      <td>1</td>\n",
              "      <td>False</td>\n",
              "      <td>False</td>\n",
              "      <td>False</td>\n",
              "    </tr>\n",
              "    <tr>\n",
              "      <th>1</th>\n",
              "      <td>608</td>\n",
              "      <td>41</td>\n",
              "      <td>1</td>\n",
              "      <td>83807.86</td>\n",
              "      <td>1</td>\n",
              "      <td>0</td>\n",
              "      <td>1</td>\n",
              "      <td>112542.58</td>\n",
              "      <td>0</td>\n",
              "      <td>False</td>\n",
              "      <td>True</td>\n",
              "      <td>False</td>\n",
              "    </tr>\n",
              "    <tr>\n",
              "      <th>2</th>\n",
              "      <td>502</td>\n",
              "      <td>42</td>\n",
              "      <td>8</td>\n",
              "      <td>159660.80</td>\n",
              "      <td>3</td>\n",
              "      <td>1</td>\n",
              "      <td>0</td>\n",
              "      <td>113931.57</td>\n",
              "      <td>1</td>\n",
              "      <td>False</td>\n",
              "      <td>False</td>\n",
              "      <td>False</td>\n",
              "    </tr>\n",
              "    <tr>\n",
              "      <th>3</th>\n",
              "      <td>699</td>\n",
              "      <td>39</td>\n",
              "      <td>1</td>\n",
              "      <td>0.00</td>\n",
              "      <td>2</td>\n",
              "      <td>0</td>\n",
              "      <td>0</td>\n",
              "      <td>93826.63</td>\n",
              "      <td>0</td>\n",
              "      <td>False</td>\n",
              "      <td>False</td>\n",
              "      <td>False</td>\n",
              "    </tr>\n",
              "    <tr>\n",
              "      <th>4</th>\n",
              "      <td>850</td>\n",
              "      <td>43</td>\n",
              "      <td>2</td>\n",
              "      <td>125510.82</td>\n",
              "      <td>1</td>\n",
              "      <td>1</td>\n",
              "      <td>1</td>\n",
              "      <td>79084.10</td>\n",
              "      <td>0</td>\n",
              "      <td>False</td>\n",
              "      <td>True</td>\n",
              "      <td>False</td>\n",
              "    </tr>\n",
              "  </tbody>\n",
              "</table>\n",
              "</div>\n",
              "    <div class=\"colab-df-buttons\">\n",
              "\n",
              "  <div class=\"colab-df-container\">\n",
              "    <button class=\"colab-df-convert\" onclick=\"convertToInteractive('df-ecd6fa26-feed-4981-9490-05c159d6db77')\"\n",
              "            title=\"Convert this dataframe to an interactive table.\"\n",
              "            style=\"display:none;\">\n",
              "\n",
              "  <svg xmlns=\"http://www.w3.org/2000/svg\" height=\"24px\" viewBox=\"0 -960 960 960\">\n",
              "    <path d=\"M120-120v-720h720v720H120Zm60-500h600v-160H180v160Zm220 220h160v-160H400v160Zm0 220h160v-160H400v160ZM180-400h160v-160H180v160Zm440 0h160v-160H620v160ZM180-180h160v-160H180v160Zm440 0h160v-160H620v160Z\"/>\n",
              "  </svg>\n",
              "    </button>\n",
              "\n",
              "  <style>\n",
              "    .colab-df-container {\n",
              "      display:flex;\n",
              "      gap: 12px;\n",
              "    }\n",
              "\n",
              "    .colab-df-convert {\n",
              "      background-color: #E8F0FE;\n",
              "      border: none;\n",
              "      border-radius: 50%;\n",
              "      cursor: pointer;\n",
              "      display: none;\n",
              "      fill: #1967D2;\n",
              "      height: 32px;\n",
              "      padding: 0 0 0 0;\n",
              "      width: 32px;\n",
              "    }\n",
              "\n",
              "    .colab-df-convert:hover {\n",
              "      background-color: #E2EBFA;\n",
              "      box-shadow: 0px 1px 2px rgba(60, 64, 67, 0.3), 0px 1px 3px 1px rgba(60, 64, 67, 0.15);\n",
              "      fill: #174EA6;\n",
              "    }\n",
              "\n",
              "    .colab-df-buttons div {\n",
              "      margin-bottom: 4px;\n",
              "    }\n",
              "\n",
              "    [theme=dark] .colab-df-convert {\n",
              "      background-color: #3B4455;\n",
              "      fill: #D2E3FC;\n",
              "    }\n",
              "\n",
              "    [theme=dark] .colab-df-convert:hover {\n",
              "      background-color: #434B5C;\n",
              "      box-shadow: 0px 1px 3px 1px rgba(0, 0, 0, 0.15);\n",
              "      filter: drop-shadow(0px 1px 2px rgba(0, 0, 0, 0.3));\n",
              "      fill: #FFFFFF;\n",
              "    }\n",
              "  </style>\n",
              "\n",
              "    <script>\n",
              "      const buttonEl =\n",
              "        document.querySelector('#df-ecd6fa26-feed-4981-9490-05c159d6db77 button.colab-df-convert');\n",
              "      buttonEl.style.display =\n",
              "        google.colab.kernel.accessAllowed ? 'block' : 'none';\n",
              "\n",
              "      async function convertToInteractive(key) {\n",
              "        const element = document.querySelector('#df-ecd6fa26-feed-4981-9490-05c159d6db77');\n",
              "        const dataTable =\n",
              "          await google.colab.kernel.invokeFunction('convertToInteractive',\n",
              "                                                    [key], {});\n",
              "        if (!dataTable) return;\n",
              "\n",
              "        const docLinkHtml = 'Like what you see? Visit the ' +\n",
              "          '<a target=\"_blank\" href=https://colab.research.google.com/notebooks/data_table.ipynb>data table notebook</a>'\n",
              "          + ' to learn more about interactive tables.';\n",
              "        element.innerHTML = '';\n",
              "        dataTable['output_type'] = 'display_data';\n",
              "        await google.colab.output.renderOutput(dataTable, element);\n",
              "        const docLink = document.createElement('div');\n",
              "        docLink.innerHTML = docLinkHtml;\n",
              "        element.appendChild(docLink);\n",
              "      }\n",
              "    </script>\n",
              "  </div>\n",
              "\n",
              "\n",
              "    <div id=\"df-be33bbf0-cb10-494a-abfb-cd9d047b71fc\">\n",
              "      <button class=\"colab-df-quickchart\" onclick=\"quickchart('df-be33bbf0-cb10-494a-abfb-cd9d047b71fc')\"\n",
              "                title=\"Suggest charts\"\n",
              "                style=\"display:none;\">\n",
              "\n",
              "<svg xmlns=\"http://www.w3.org/2000/svg\" height=\"24px\"viewBox=\"0 0 24 24\"\n",
              "     width=\"24px\">\n",
              "    <g>\n",
              "        <path d=\"M19 3H5c-1.1 0-2 .9-2 2v14c0 1.1.9 2 2 2h14c1.1 0 2-.9 2-2V5c0-1.1-.9-2-2-2zM9 17H7v-7h2v7zm4 0h-2V7h2v10zm4 0h-2v-4h2v4z\"/>\n",
              "    </g>\n",
              "</svg>\n",
              "      </button>\n",
              "\n",
              "<style>\n",
              "  .colab-df-quickchart {\n",
              "      --bg-color: #E8F0FE;\n",
              "      --fill-color: #1967D2;\n",
              "      --hover-bg-color: #E2EBFA;\n",
              "      --hover-fill-color: #174EA6;\n",
              "      --disabled-fill-color: #AAA;\n",
              "      --disabled-bg-color: #DDD;\n",
              "  }\n",
              "\n",
              "  [theme=dark] .colab-df-quickchart {\n",
              "      --bg-color: #3B4455;\n",
              "      --fill-color: #D2E3FC;\n",
              "      --hover-bg-color: #434B5C;\n",
              "      --hover-fill-color: #FFFFFF;\n",
              "      --disabled-bg-color: #3B4455;\n",
              "      --disabled-fill-color: #666;\n",
              "  }\n",
              "\n",
              "  .colab-df-quickchart {\n",
              "    background-color: var(--bg-color);\n",
              "    border: none;\n",
              "    border-radius: 50%;\n",
              "    cursor: pointer;\n",
              "    display: none;\n",
              "    fill: var(--fill-color);\n",
              "    height: 32px;\n",
              "    padding: 0;\n",
              "    width: 32px;\n",
              "  }\n",
              "\n",
              "  .colab-df-quickchart:hover {\n",
              "    background-color: var(--hover-bg-color);\n",
              "    box-shadow: 0 1px 2px rgba(60, 64, 67, 0.3), 0 1px 3px 1px rgba(60, 64, 67, 0.15);\n",
              "    fill: var(--button-hover-fill-color);\n",
              "  }\n",
              "\n",
              "  .colab-df-quickchart-complete:disabled,\n",
              "  .colab-df-quickchart-complete:disabled:hover {\n",
              "    background-color: var(--disabled-bg-color);\n",
              "    fill: var(--disabled-fill-color);\n",
              "    box-shadow: none;\n",
              "  }\n",
              "\n",
              "  .colab-df-spinner {\n",
              "    border: 2px solid var(--fill-color);\n",
              "    border-color: transparent;\n",
              "    border-bottom-color: var(--fill-color);\n",
              "    animation:\n",
              "      spin 1s steps(1) infinite;\n",
              "  }\n",
              "\n",
              "  @keyframes spin {\n",
              "    0% {\n",
              "      border-color: transparent;\n",
              "      border-bottom-color: var(--fill-color);\n",
              "      border-left-color: var(--fill-color);\n",
              "    }\n",
              "    20% {\n",
              "      border-color: transparent;\n",
              "      border-left-color: var(--fill-color);\n",
              "      border-top-color: var(--fill-color);\n",
              "    }\n",
              "    30% {\n",
              "      border-color: transparent;\n",
              "      border-left-color: var(--fill-color);\n",
              "      border-top-color: var(--fill-color);\n",
              "      border-right-color: var(--fill-color);\n",
              "    }\n",
              "    40% {\n",
              "      border-color: transparent;\n",
              "      border-right-color: var(--fill-color);\n",
              "      border-top-color: var(--fill-color);\n",
              "    }\n",
              "    60% {\n",
              "      border-color: transparent;\n",
              "      border-right-color: var(--fill-color);\n",
              "    }\n",
              "    80% {\n",
              "      border-color: transparent;\n",
              "      border-right-color: var(--fill-color);\n",
              "      border-bottom-color: var(--fill-color);\n",
              "    }\n",
              "    90% {\n",
              "      border-color: transparent;\n",
              "      border-bottom-color: var(--fill-color);\n",
              "    }\n",
              "  }\n",
              "</style>\n",
              "\n",
              "      <script>\n",
              "        async function quickchart(key) {\n",
              "          const quickchartButtonEl =\n",
              "            document.querySelector('#' + key + ' button');\n",
              "          quickchartButtonEl.disabled = true;  // To prevent multiple clicks.\n",
              "          quickchartButtonEl.classList.add('colab-df-spinner');\n",
              "          try {\n",
              "            const charts = await google.colab.kernel.invokeFunction(\n",
              "                'suggestCharts', [key], {});\n",
              "          } catch (error) {\n",
              "            console.error('Error during call to suggestCharts:', error);\n",
              "          }\n",
              "          quickchartButtonEl.classList.remove('colab-df-spinner');\n",
              "          quickchartButtonEl.classList.add('colab-df-quickchart-complete');\n",
              "        }\n",
              "        (() => {\n",
              "          let quickchartButtonEl =\n",
              "            document.querySelector('#df-be33bbf0-cb10-494a-abfb-cd9d047b71fc button');\n",
              "          quickchartButtonEl.style.display =\n",
              "            google.colab.kernel.accessAllowed ? 'block' : 'none';\n",
              "        })();\n",
              "      </script>\n",
              "    </div>\n",
              "\n",
              "    </div>\n",
              "  </div>\n"
            ],
            "application/vnd.google.colaboratory.intrinsic+json": {
              "type": "dataframe",
              "summary": "{\n  \"name\": \"df_model\",\n  \"rows\": 5,\n  \"fields\": [\n    {\n      \"column\": \"CreditScore\",\n      \"properties\": {\n        \"dtype\": \"number\",\n        \"std\": 129,\n        \"min\": 502,\n        \"max\": 850,\n        \"num_unique_values\": 5,\n        \"samples\": [\n          608,\n          850,\n          502\n        ],\n        \"semantic_type\": \"\",\n        \"description\": \"\"\n      }\n    },\n    {\n      \"column\": \"Age\",\n      \"properties\": {\n        \"dtype\": \"number\",\n        \"std\": 1,\n        \"min\": 39,\n        \"max\": 43,\n        \"num_unique_values\": 4,\n        \"samples\": [\n          41,\n          43,\n          42\n        ],\n        \"semantic_type\": \"\",\n        \"description\": \"\"\n      }\n    },\n    {\n      \"column\": \"Tenure\",\n      \"properties\": {\n        \"dtype\": \"number\",\n        \"std\": 2,\n        \"min\": 1,\n        \"max\": 8,\n        \"num_unique_values\": 3,\n        \"samples\": [\n          2,\n          1,\n          8\n        ],\n        \"semantic_type\": \"\",\n        \"description\": \"\"\n      }\n    },\n    {\n      \"column\": \"Balance\",\n      \"properties\": {\n        \"dtype\": \"number\",\n        \"std\": 72524.34601442111,\n        \"min\": 0.0,\n        \"max\": 159660.8,\n        \"num_unique_values\": 4,\n        \"samples\": [\n          83807.86,\n          125510.82,\n          0.0\n        ],\n        \"semantic_type\": \"\",\n        \"description\": \"\"\n      }\n    },\n    {\n      \"column\": \"NumOfProducts\",\n      \"properties\": {\n        \"dtype\": \"number\",\n        \"std\": 0,\n        \"min\": 1,\n        \"max\": 3,\n        \"num_unique_values\": 3,\n        \"samples\": [\n          1,\n          3,\n          2\n        ],\n        \"semantic_type\": \"\",\n        \"description\": \"\"\n      }\n    },\n    {\n      \"column\": \"HasCrCard\",\n      \"properties\": {\n        \"dtype\": \"number\",\n        \"std\": 0,\n        \"min\": 0,\n        \"max\": 1,\n        \"num_unique_values\": 2,\n        \"samples\": [\n          0,\n          1\n        ],\n        \"semantic_type\": \"\",\n        \"description\": \"\"\n      }\n    },\n    {\n      \"column\": \"IsActiveMember\",\n      \"properties\": {\n        \"dtype\": \"number\",\n        \"std\": 0,\n        \"min\": 0,\n        \"max\": 1,\n        \"num_unique_values\": 2,\n        \"samples\": [\n          0,\n          1\n        ],\n        \"semantic_type\": \"\",\n        \"description\": \"\"\n      }\n    },\n    {\n      \"column\": \"EstimatedSalary\",\n      \"properties\": {\n        \"dtype\": \"number\",\n        \"std\": 14393.593385557686,\n        \"min\": 79084.1,\n        \"max\": 113931.57,\n        \"num_unique_values\": 5,\n        \"samples\": [\n          112542.58,\n          79084.1\n        ],\n        \"semantic_type\": \"\",\n        \"description\": \"\"\n      }\n    },\n    {\n      \"column\": \"Exited\",\n      \"properties\": {\n        \"dtype\": \"number\",\n        \"std\": 0,\n        \"min\": 0,\n        \"max\": 1,\n        \"num_unique_values\": 2,\n        \"samples\": [\n          0,\n          1\n        ],\n        \"semantic_type\": \"\",\n        \"description\": \"\"\n      }\n    },\n    {\n      \"column\": \"Geography_Germany\",\n      \"properties\": {\n        \"dtype\": \"boolean\",\n        \"num_unique_values\": 1,\n        \"samples\": [\n          false\n        ],\n        \"semantic_type\": \"\",\n        \"description\": \"\"\n      }\n    },\n    {\n      \"column\": \"Geography_Spain\",\n      \"properties\": {\n        \"dtype\": \"boolean\",\n        \"num_unique_values\": 2,\n        \"samples\": [\n          true\n        ],\n        \"semantic_type\": \"\",\n        \"description\": \"\"\n      }\n    },\n    {\n      \"column\": \"Gender_Male\",\n      \"properties\": {\n        \"dtype\": \"boolean\",\n        \"num_unique_values\": 1,\n        \"samples\": [\n          false\n        ],\n        \"semantic_type\": \"\",\n        \"description\": \"\"\n      }\n    }\n  ]\n}"
            }
          },
          "metadata": {}
        },
        {
          "output_type": "stream",
          "name": "stdout",
          "text": [
            "\n",
            "Info dari DataFrame baru:\n",
            "<class 'pandas.core.frame.DataFrame'>\n",
            "RangeIndex: 10000 entries, 0 to 9999\n",
            "Data columns (total 12 columns):\n",
            " #   Column             Non-Null Count  Dtype  \n",
            "---  ------             --------------  -----  \n",
            " 0   CreditScore        10000 non-null  int64  \n",
            " 1   Age                10000 non-null  int64  \n",
            " 2   Tenure             10000 non-null  int64  \n",
            " 3   Balance            10000 non-null  float64\n",
            " 4   NumOfProducts      10000 non-null  int64  \n",
            " 5   HasCrCard          10000 non-null  int64  \n",
            " 6   IsActiveMember     10000 non-null  int64  \n",
            " 7   EstimatedSalary    10000 non-null  float64\n",
            " 8   Exited             10000 non-null  int64  \n",
            " 9   Geography_Germany  10000 non-null  bool   \n",
            " 10  Geography_Spain    10000 non-null  bool   \n",
            " 11  Gender_Male        10000 non-null  bool   \n",
            "dtypes: bool(3), float64(2), int64(7)\n",
            "memory usage: 732.6 KB\n"
          ]
        }
      ]
    },
    {
      "cell_type": "markdown",
      "source": [
        "# Permodelan"
      ],
      "metadata": {
        "id": "Dt34B8rvH9wL"
      }
    },
    {
      "cell_type": "code",
      "source": [
        "from sklearn.model_selection import train_test_split\n",
        "from sklearn.preprocessing import StandardScaler\n",
        "from sklearn.linear_model import LogisticRegression\n",
        "from sklearn.ensemble import RandomForestClassifier\n",
        "\n",
        "# Memisahkan/Splitting fitu (X) dan Target (y)\n",
        "X = df_model.drop(columns='Exited')\n",
        "y = df_model['Exited']\n",
        "\n",
        "print(\"Data fitur (X) dan target (y) berhasil dipisahkan.\")"
      ],
      "metadata": {
        "colab": {
          "base_uri": "https://localhost:8080/"
        },
        "id": "4Yi-vSEwH-3l",
        "outputId": "a3a7ef5e-1367-4ee3-a0bd-4fec0a8ca2d9"
      },
      "execution_count": null,
      "outputs": [
        {
          "output_type": "stream",
          "name": "stdout",
          "text": [
            "Data fitur (X) dan target (y) berhasil dipisahkan.\n"
          ]
        }
      ]
    },
    {
      "cell_type": "code",
      "source": [
        "# Bagi data menjadi Train Data (80%) dan Test Data (20%)\n",
        "# test_size=0.2 berarti 20% datanya buat testing\n",
        "# random_state=42 biar pembagian datanya selalu konsisten setiap kali di-run\n",
        "# stratify=y biar proporsi churn di data train dan test tetap sama kayak di data asli\n",
        "X_train, X_test, y_train, y_test = train_test_split(X, y, test_size=0.2, random_state=42, stratify=y)\n",
        "\n",
        "print(f\"Data berhasil dibagi: {len(X_train)} baris untuk latih dan {len(X_test)} baris untuk uji.\")"
      ],
      "metadata": {
        "colab": {
          "base_uri": "https://localhost:8080/"
        },
        "id": "1RTpsYZaI3Ri",
        "outputId": "f22979f1-ce93-401b-ae2b-38db69b441a9"
      },
      "execution_count": null,
      "outputs": [
        {
          "output_type": "stream",
          "name": "stdout",
          "text": [
            "Data berhasil dibagi: 8000 baris untuk latih dan 2000 baris untuk uji.\n"
          ]
        }
      ]
    },
    {
      "cell_type": "code",
      "source": [
        "# Feature Scaling\n",
        "# pake StandardScaler biar skalanya lebih rapi\n",
        "scaler = StandardScaler()\n",
        "\n",
        "# belajar scale dari data train, lalu langsung transform datanya\n",
        "X_train_scaled = scaler.fit_transform(X_train)\n",
        "# untuk data test cukup di-transform aja biar gak ada data leak\n",
        "X_test_scaled = scaler.transform(X_test)\n",
        "\n",
        "print(\"Feature scaling berhasil dilakukan.\")"
      ],
      "metadata": {
        "colab": {
          "base_uri": "https://localhost:8080/"
        },
        "id": "5DM65J1uJpT_",
        "outputId": "bf3fc0bd-e660-4b70-f12c-2730051801ae"
      },
      "execution_count": null,
      "outputs": [
        {
          "output_type": "stream",
          "name": "stdout",
          "text": [
            "Feature scaling berhasil dilakukan.\n"
          ]
        }
      ]
    },
    {
      "cell_type": "code",
      "source": [
        "# Latih Model Machine Learning\n",
        "# Melatih 2 model untuk perbandingan\n",
        "\n",
        "# Model 1: Logistic Regression (Baseline Model)\n",
        "print(\"\\nMelatih Model Logistic Regression...\")\n",
        "log_reg = LogisticRegression(random_state=42)\n",
        "log_reg.fit(X_train_scaled, y_train)\n",
        "print(\"Model Logistic Regression selesai dilatih!\")\n",
        "\n",
        "# Model 2: Random Forest Classifier (Model yang lebih kompleks)\n",
        "print(\"\\nMelatih Model Random Forest...\")\n",
        "rand_forest = RandomForestClassifier(random_state=42)\n",
        "rand_forest.fit(X_train_scaled, y_train)\n",
        "print(\"Model Random Forest selesai dilatih!\")"
      ],
      "metadata": {
        "colab": {
          "base_uri": "https://localhost:8080/"
        },
        "id": "DjD1z_MlKUb-",
        "outputId": "94ce496e-9621-46bf-edb7-f2989b499058"
      },
      "execution_count": null,
      "outputs": [
        {
          "output_type": "stream",
          "name": "stdout",
          "text": [
            "\n",
            "Melatih Model Logistic Regression...\n",
            "Model Logistic Regression selesai dilatih!\n",
            "\n",
            "Melatih Model Random Forest...\n",
            "Model Random Forest selesai dilatih!\n"
          ]
        }
      ]
    },
    {
      "cell_type": "markdown",
      "source": [
        "# Evaluasi dan Interpretasi"
      ],
      "metadata": {
        "id": "T983_GPULEqm"
      }
    },
    {
      "cell_type": "code",
      "source": [
        "from sklearn.metrics import classification_report, confusion_matrix, accuracy_score\n",
        "\n",
        "# Membuat Prediksi pada Data Uji\n",
        "# Menggunakan model yang sudah terlatih ('log_reg' dan 'rand_forest')\n",
        "# untuk memprediksi target pada data uji ('X_test_scaled')\n",
        "y_pred_lr = log_reg.predict(X_test_scaled)\n",
        "y_pred_rf = rand_forest.predict(X_test_scaled)\n",
        "\n",
        "print(\"Prediksi pada data uji berhasil dibuat\")"
      ],
      "metadata": {
        "colab": {
          "base_uri": "https://localhost:8080/"
        },
        "id": "gqwJKnG8LJL_",
        "outputId": "0b51ee61-e73f-46d9-b852-0c0d9ddc2270"
      },
      "execution_count": null,
      "outputs": [
        {
          "output_type": "stream",
          "name": "stdout",
          "text": [
            "Prediksi pada data uji berhasil dibuat\n"
          ]
        }
      ]
    },
    {
      "cell_type": "code",
      "source": [
        "# Evaluasi Perfoma Model\n",
        "# disini akan bandingkan hasil prediksi (y_pred) dengan hasil sebenarnya (y_test)\n",
        "\n",
        "print(\"\\n--- Hasil Evaluasi Model Logistic Regression ---\")\n",
        "print(f\"Accuracy: {accuracy_score(y_test, y_pred_lr):.4f}\")\n",
        "print(\"Classification Report:\")\n",
        "print(classification_report(y_test, y_pred_lr, target_names=['Non-Churn (0)', 'Churn (1)']))\n",
        "\n",
        "print(\"\\n--- Hasil Evaluasi Model Random Forest ---\")\n",
        "print(f\"Accuracy: {accuracy_score(y_test, y_pred_rf):.4f}\")\n",
        "print(\"Classification Report:\")\n",
        "print(classification_report(y_test, y_pred_rf, target_names=['Non-Churn (0)', 'Churn (1)']))"
      ],
      "metadata": {
        "colab": {
          "base_uri": "https://localhost:8080/"
        },
        "id": "wM4iF1OLLuCm",
        "outputId": "3462f992-789c-402a-aefc-a7f942a5d2cb"
      },
      "execution_count": null,
      "outputs": [
        {
          "output_type": "stream",
          "name": "stdout",
          "text": [
            "\n",
            "--- Hasil Evaluasi Model Logistic Regression ---\n",
            "Accuracy: 0.8080\n",
            "Classification Report:\n",
            "               precision    recall  f1-score   support\n",
            "\n",
            "Non-Churn (0)       0.82      0.97      0.89      1593\n",
            "    Churn (1)       0.59      0.19      0.28       407\n",
            "\n",
            "     accuracy                           0.81      2000\n",
            "    macro avg       0.71      0.58      0.59      2000\n",
            " weighted avg       0.78      0.81      0.77      2000\n",
            "\n",
            "\n",
            "--- Hasil Evaluasi Model Random Forest ---\n",
            "Accuracy: 0.8640\n",
            "Classification Report:\n",
            "               precision    recall  f1-score   support\n",
            "\n",
            "Non-Churn (0)       0.88      0.97      0.92      1593\n",
            "    Churn (1)       0.78      0.46      0.58       407\n",
            "\n",
            "     accuracy                           0.86      2000\n",
            "    macro avg       0.83      0.71      0.75      2000\n",
            " weighted avg       0.86      0.86      0.85      2000\n",
            "\n"
          ]
        }
      ]
    },
    {
      "cell_type": "code",
      "source": [
        "# Interpretasi Model: Mencari Faktor Paling Penting (dari Random Forest)\n",
        "# Random Forest memiliki 'feature_importances_' yang sangat berguna\n",
        "# untuk melihat faktor mana yang paling berpengaruh\n",
        "\n",
        "# Dapatkan nama fitur dan tingkat kepentingannya\n",
        "importances = rand_forest.feature_importances_\n",
        "feature_names = X.columns\n",
        "feature_importance_df = pd.DataFrame({'Feature': feature_names, 'Importance': importances})\n",
        "\n",
        "# Urutkan dari yang paling penting\n",
        "feature_importance_df = feature_importance_df.sort_values(by='Importance', ascending=False)\n",
        "\n",
        "# Visualisasi hasil\n",
        "plt.figure(figsize=(12, 8))\n",
        "sns.barplot(x='Importance', y='Feature', data=feature_importance_df)\n",
        "plt.title('Peringkat Faktor Paling Berpengaruh Terhadap Churn (Model Random Forest)')\n",
        "plt.xlabel('Tingkat Kepentingan')\n",
        "plt.ylabel('Faktor (Fitur)')\n",
        "plt.show()\n",
        "\n",
        "print(\"\\nFaktor-faktor yang paling berpengaruh menurut model:\")\n",
        "print(feature_importance_df)"
      ],
      "metadata": {
        "colab": {
          "base_uri": "https://localhost:8080/",
          "height": 961
        },
        "id": "U6HTKFcdMEvs",
        "outputId": "c1b84b88-a0f0-44dd-93ac-e9e7bcbf6d02"
      },
      "execution_count": null,
      "outputs": [
        {
          "output_type": "display_data",
          "data": {
            "text/plain": [
              "<Figure size 1200x800 with 1 Axes>"
            ],
            "image/png": "[encoded data removed]"
          },
          "metadata": {}
        },
        {
          "output_type": "stream",
          "name": "stdout",
          "text": [
            "\n",
            "Faktor-faktor yang paling berpengaruh menurut model:\n",
            "              Feature  Importance\n",
            "1                 Age    0.236485\n",
            "7     EstimatedSalary    0.147016\n",
            "0         CreditScore    0.142756\n",
            "3             Balance    0.141756\n",
            "4       NumOfProducts    0.130410\n",
            "2              Tenure    0.081817\n",
            "6      IsActiveMember    0.039933\n",
            "8   Geography_Germany    0.028923\n",
            "5           HasCrCard    0.018799\n",
            "10        Gender_Male    0.018483\n",
            "9     Geography_Spain    0.013622\n"
          ]
        }
      ]
    },
    {
      "cell_type": "markdown",
      "source": [
        "# Laporan"
      ],
      "metadata": {
        "id": "rvW3jhLzSt9V"
      }
    },
    {
      "cell_type": "markdown",
      "source": [
        "## Ringkasan Laporan:\n",
        "\n",
        "## Latar Belakangnya\n",
        "Tingkat churn pelanggan di bank kita mencapai angka yang mengkhawatirkan (~20%), yang secara langsung berisiko mengurangi basis pendapatan dan melemahkan posisi kita di pasar. Untuk mengatasi ini, sebuah analisis data mendalam telah dilakukan.\n",
        "\n",
        "## Analisis dan Model Prediktif:\n",
        "Melalui analisis data historis, kami berhasil membangun sebuah model prediksi (Random Forest) yang mampu mengidentifikasi pelanggan berisiko churn. Keberhasilan utama model ini terletak pada kemampuannya untuk mendeteksi 46% dari seluruh pelanggan yang sebenarnya akan churn (Recall: 0.46), menjadikannya alat yang efektif untuk deteksi dini dan intervensi.\n",
        "\n",
        "## Temuan Utama:\n",
        "Analisis menunjukkan bahwa profil pelanggan berisiko tinggi dapat diidentifikasi dengan jelas. Faktor-faktor pendorong churn yang paling signifikan adalah:\n",
        "* Demografi & Siklus Hidup: Usia nasabah, terutama pada rentang 40-55 tahun.\n",
        "* Status Finansial & Produk: Saldo rekening, jumlah produk yang dimiliki, dan estimasi gaji.\n",
        "* Tingkat Keaktifan: Nasabah yang tidak aktif bertransaksi menunjukkan risiko churn yang lebih tinggi.\n",
        "* Geografis: Nasabah di Jerman secara konsisten menunjukkan tingkat churn yang lebih tinggi.\n",
        "\n",
        "## Rekomendasi Strategis:\n",
        "* Mengimplementasikan Kampanye Retensi yang Dipersonalisasi: Menargetkan segmen pelanggan berisiko tinggi (usia 40-55, saldo signifikan, tidak aktif) dengan penawaran produk yang relevan dengan fase hidup mereka (misalnya, investasi, dana pensiun).\n",
        "* Melakukan Investigasi Mendalam pada Pasar Jerman: Menganalisis faktor kompetisi, kesesuaian produk, dan layanan pelanggan secara spesifik untuk pasar Jerman guna memahami akar masalah tingginya churn di wilayah tersebut.\n"
      ],
      "metadata": {
        "id": "zP1sO5TVSwfH"
      }
    },
    {
      "cell_type": "markdown",
      "source": [
        "# Improvement"
      ],
      "metadata": {
        "id": "i0our9QUWSgz"
      }
    },
    {
      "cell_type": "markdown",
      "source": [
        "Mencoba Hyperparameter Tuning, coba model lain(XGBoost), dan coba Teknik Sampling(SMOTE)"
      ],
      "metadata": {
        "id": "w2Q8qfLbWcuE"
      }
    },
    {
      "cell_type": "markdown",
      "source": [
        "## HYPERPARAMETER TUNING"
      ],
      "metadata": {
        "id": "HY82HnJRdyUO"
      }
    },
    {
      "cell_type": "code",
      "source": [
        "# HYPERPARAMETER TUNING\n",
        "from sklearn.model_selection import RandomizedSearchCV\n",
        "\n",
        "print(\"Memulai proses Hyperparameter Tuning untuk Random Forest...\")\n",
        "\n",
        "# Menentukan \"menu\" parameter yang akan dicoba\n",
        "# dibawah ini beberapa parameter yang penting untuk Random Forest\n",
        "param_grid = {\n",
        "    'n_estimators': [100, 200, 300, 400, 500], # Jumlah pohon dalam hutan\n",
        "    'max_features': ['sqrt', 'log2'],          # Jumlah fitur yang dipertimbangkan di setiap split\n",
        "    'max_depth': [10, 20, 30, 40, 50, None],   # Kedalaman maksimum pohon\n",
        "    'min_samples_split': [2, 5, 10],           # Jumlah minimum sampel untuk membagi node\n",
        "    'min_samples_leaf': [1, 2, 4]              # Jumlah minimum sampel di setiap daun\n",
        "}\n",
        "\n",
        "# Inisialisasi RandomizedSearchCV\n",
        "# n_iter: Berapa banyak kombinasi acak yang mau dicoba\n",
        "# cv: Cross-validation (disini pakai 5)\n",
        "# verbose=2: Menampilkan progres\n",
        "# n_jobs=-1: Menggunakan semua core CPU agar lebih cepat\n",
        "rf_random_search = RandomizedSearchCV(\n",
        "    estimator=RandomForestClassifier(random_state=42),\n",
        "    param_distributions=param_grid,\n",
        "    n_iter=100, # Coba 100 kombinasi\n",
        "    cv=5,\n",
        "    verbose=2,\n",
        "    random_state=42,\n",
        "    n_jobs=-1,\n",
        "    scoring='recall' # optimalkan untuk metrik RECALL!\n",
        ")\n",
        "\n",
        "# Latih model dengan data latih yang sudah di-scaling\n",
        "rf_random_search.fit(X_train_scaled, y_train)\n",
        "\n",
        "# Tampilkan parameter terbaik yang ditemukan\n",
        "print(\"\\nParameter terbaik yang ditemukan:\")\n",
        "print(rf_random_search.best_params_)\n",
        "\n",
        "# Gunakan model terbaik untuk evaluasi\n",
        "best_rf_model = rf_random_search.best_estimator_\n",
        "y_pred_best_rf = best_rf_model.predict(X_test_scaled)\n",
        "\n",
        "# Tampilkan Classification Report dari model terbaik\n",
        "print(\"\\n--- Hasil Evaluasi Model Random Forest (Setelah Tuning) ---\")\n",
        "print(classification_report(y_test, y_pred_best_rf, target_names=['Non-Churn (0)', 'Churn (1)']))\n"
      ],
      "metadata": {
        "colab": {
          "base_uri": "https://localhost:8080/"
        },
        "id": "mCeS0PtJMwYs",
        "outputId": "5bd2655d-2b00-4d6a-8f75-52780fcccdac"
      },
      "execution_count": null,
      "outputs": [
        {
          "output_type": "stream",
          "name": "stdout",
          "text": [
            "Memulai proses Hyperparameter Tuning untuk Random Forest...\n",
            "Fitting 5 folds for each of 100 candidates, totalling 500 fits\n",
            "\n",
            "Parameter terbaik yang ditemukan:\n",
            "{'n_estimators': 100, 'min_samples_split': 5, 'min_samples_leaf': 1, 'max_features': 'log2', 'max_depth': 20}\n",
            "\n",
            "--- Hasil Evaluasi Model Random Forest (Setelah Tuning) ---\n",
            "               precision    recall  f1-score   support\n",
            "\n",
            "Non-Churn (0)       0.88      0.97      0.92      1593\n",
            "    Churn (1)       0.79      0.47      0.59       407\n",
            "\n",
            "     accuracy                           0.87      2000\n",
            "    macro avg       0.84      0.72      0.75      2000\n",
            " weighted avg       0.86      0.87      0.85      2000\n",
            "\n"
          ]
        }
      ]
    },
    {
      "cell_type": "markdown",
      "source": [
        "Recall Sebelumnya: **0.46**\n",
        "\n",
        "Recall Setelah Tuning: **0.47**\n",
        "\n",
        "Apakah ada algoritma lain yang secara fundamental bisa lebih baik dari Random Forest untuk kasus ini? Oke mungkin kita coba untuk pakai XGBoost akan sepert apa nanti"
      ],
      "metadata": {
        "id": "mxTc1xyxdX3H"
      }
    },
    {
      "cell_type": "markdown",
      "source": [
        "## MENCOBA XGBOOST"
      ],
      "metadata": {
        "id": "uH97Lk-yd1Kw"
      }
    },
    {
      "cell_type": "code",
      "source": [
        "!pip install xgboost"
      ],
      "metadata": {
        "colab": {
          "base_uri": "https://localhost:8080/"
        },
        "id": "91RK3oCgWVVE",
        "outputId": "cde67253-cd90-4784-c482-a35af463aad9"
      },
      "execution_count": null,
      "outputs": [
        {
          "output_type": "stream",
          "name": "stdout",
          "text": [
            "Requirement already satisfied: xgboost in /usr/local/lib/python3.11/dist-packages (2.1.4)\n",
            "Requirement already satisfied: numpy in /usr/local/lib/python3.11/dist-packages (from xgboost) (2.0.2)\n",
            "Requirement already satisfied: nvidia-nccl-cu12 in /usr/local/lib/python3.11/dist-packages (from xgboost) (2.21.5)\n",
            "Requirement already satisfied: scipy in /usr/local/lib/python3.11/dist-packages (from xgboost) (1.15.3)\n"
          ]
        }
      ]
    },
    {
      "cell_type": "code",
      "source": [
        "import xgboost as xgb\n",
        "\n",
        "print(\"\\nMemulai proses pelatihan dengan model XGBoost...\")\n",
        "\n",
        "# Inisialisasi model XGBoost\n",
        "# Beberapa parameter dasar yang digunakan\n",
        "xgb_model = xgb.XGBClassifier(\n",
        "    objective='binary:logistic', # Tipe masalah: klasifikasi biner\n",
        "    eval_metric='logloss',       # Metrik untuk evaluasi internal\n",
        "    use_label_encoder=False,     # Rekomendasi untuk versi baru XGBoost\n",
        "    n_estimators=100,            # Jumlah pohon\n",
        "    learning_rate=0.1,           # Seberapa cepat model belajar dari kesalahan\n",
        "    max_depth=5,                 # Kedalaman maksimum pohon\n",
        "    random_state=42\n",
        ")\n",
        "\n",
        "# Latih model dengan train data yang sama\n",
        "xgb_model.fit(X_train_scaled, y_train)\n",
        "\n",
        "print('Model XGBoost selesai dilatih')\n",
        "\n",
        "# Buat prediksi pada data uji\n",
        "y_pred_xgb = xgb_model.predict(X_test_scaled)\n",
        "\n",
        "# Tampilkan Classification Report dari model XGBoost\n",
        "print(\"\\n--- Hasil Evaluasi Model XGBoost ---\")\n",
        "print(classification_report(y_test, y_pred_xgb, target_names=['Non-Churn (0)', 'Churn (1)']))"
      ],
      "metadata": {
        "colab": {
          "base_uri": "https://localhost:8080/"
        },
        "id": "P7tfLPZSd6K3",
        "outputId": "d9d475e2-fe07-414d-ffe6-eb91fc8ef802"
      },
      "execution_count": null,
      "outputs": [
        {
          "output_type": "stream",
          "name": "stdout",
          "text": [
            "\n",
            "Memulai proses pelatihan dengan model XGBoost...\n"
          ]
        },
        {
          "output_type": "stream",
          "name": "stderr",
          "text": [
            "/usr/local/lib/python3.11/dist-packages/xgboost/core.py:158: UserWarning: [11:09:37] WARNING: /workspace/src/learner.cc:740: \n",
            "Parameters: { \"use_label_encoder\" } are not used.\n",
            "\n",
            "  warnings.warn(smsg, UserWarning)\n"
          ]
        },
        {
          "output_type": "stream",
          "name": "stdout",
          "text": [
            "Model XGBoost selesai dilatih\n",
            "\n",
            "--- Hasil Evaluasi Model XGBoost ---\n",
            "               precision    recall  f1-score   support\n",
            "\n",
            "Non-Churn (0)       0.88      0.96      0.92      1593\n",
            "    Churn (1)       0.77      0.47      0.59       407\n",
            "\n",
            "     accuracy                           0.86      2000\n",
            "    macro avg       0.82      0.72      0.75      2000\n",
            " weighted avg       0.86      0.86      0.85      2000\n",
            "\n"
          ]
        }
      ]
    },
    {
      "cell_type": "code",
      "source": [
        "model_performance_list = []\n",
        "\n",
        "# --- Model 1: Logistic Regression (Baseline) ---\n",
        "report_lr = classification_report(y_test, y_pred_lr, output_dict=True)\n",
        "model_performance_list.append({\n",
        "    'Model': '1. Logistic Regression (Baseline)',\n",
        "    'Accuracy': report_lr['accuracy'],\n",
        "    'Recall (Churn)': report_lr['1']['recall'],\n",
        "    'Precision (Churn)': report_lr['1']['precision'],\n",
        "    'F1-Score (Churn)': report_lr['1']['f1-score']\n",
        "})\n",
        "\n",
        "# --- Model 2: Random Forest (Setelah di-tuning) ---\n",
        "# y_pred_best_rf dari langkah hyperparameter tuning\n",
        "report_rf = classification_report(y_test, y_pred_best_rf, output_dict=True)\n",
        "model_performance_list.append({\n",
        "    'Model': '2. Random Forest (Tuned)',\n",
        "    'Accuracy': report_rf['accuracy'],\n",
        "    'Recall (Churn)': report_rf['1']['recall'],\n",
        "    'Precision (Churn)': report_rf['1']['precision'],\n",
        "    'F1-Score (Churn)': report_rf['1']['f1-score']\n",
        "})\n",
        "\n",
        "# --- Model 3: XGBoost ---\n",
        "report_xgb = classification_report(y_test, y_pred_xgb, output_dict=True)\n",
        "model_performance_list.append({\n",
        "    'Model': '3. XGBoost',\n",
        "    'Accuracy': report_xgb['accuracy'],\n",
        "    'Recall (Churn)': report_xgb['1']['recall'],\n",
        "    'Precision (Churn)': report_xgb['1']['precision'],\n",
        "    'F1-Score (Churn)': report_xgb['1']['f1-score']\n",
        "})\n",
        "\n",
        "\n",
        "# 2. Buat DataFrame dari daftar hasil tersebut\n",
        "comparison_df = pd.DataFrame(model_performance_list)\n",
        "comparison_df = comparison_df.set_index('Model') # Jadikan nama model sebagai index\n",
        "\n",
        "# 3. Tampilkan tabel perbandingan\n",
        "print(\"--- Tabel Perbandingan Performa Model ---\")\n",
        "# Kita format angkanya agar lebih mudah dibaca (3 angka di belakang koma)\n",
        "display(comparison_df.style.format('{:.3f}'))"
      ],
      "metadata": {
        "colab": {
          "base_uri": "https://localhost:8080/",
          "height": 192
        },
        "id": "xSXsO2_bfvYM",
        "outputId": "20dcc779-4186-4551-940f-73db24e5d014"
      },
      "execution_count": null,
      "outputs": [
        {
          "output_type": "stream",
          "name": "stdout",
          "text": [
            "--- Tabel Perbandingan Performa Model ---\n"
          ]
        },
        {
          "output_type": "display_data",
          "data": {
            "text/plain": [
              "<pandas.io.formats.style.Styler at 0x7dd843fd1310>"
            ],
            "text/html": [
              "<style type=\"text/css\">\n",
              "</style>\n",
              "<table id=\"T_28517\" class=\"dataframe\">\n",
              "  <thead>\n",
              "    <tr>\n",
              "      <th class=\"blank level0\" >&nbsp;</th>\n",
              "      <th id=\"T_28517_level0_col0\" class=\"col_heading level0 col0\" >Accuracy</th>\n",
              "      <th id=\"T_28517_level0_col1\" class=\"col_heading level0 col1\" >Recall (Churn)</th>\n",
              "      <th id=\"T_28517_level0_col2\" class=\"col_heading level0 col2\" >Precision (Churn)</th>\n",
              "      <th id=\"T_28517_level0_col3\" class=\"col_heading level0 col3\" >F1-Score (Churn)</th>\n",
              "    </tr>\n",
              "    <tr>\n",
              "      <th class=\"index_name level0\" >Model</th>\n",
              "      <th class=\"blank col0\" >&nbsp;</th>\n",
              "      <th class=\"blank col1\" >&nbsp;</th>\n",
              "      <th class=\"blank col2\" >&nbsp;</th>\n",
              "      <th class=\"blank col3\" >&nbsp;</th>\n",
              "    </tr>\n",
              "  </thead>\n",
              "  <tbody>\n",
              "    <tr>\n",
              "      <th id=\"T_28517_level0_row0\" class=\"row_heading level0 row0\" >1. Logistic Regression (Baseline)</th>\n",
              "      <td id=\"T_28517_row0_col0\" class=\"data row0 col0\" >0.808</td>\n",
              "      <td id=\"T_28517_row0_col1\" class=\"data row0 col1\" >0.187</td>\n",
              "      <td id=\"T_28517_row0_col2\" class=\"data row0 col2\" >0.589</td>\n",
              "      <td id=\"T_28517_row0_col3\" class=\"data row0 col3\" >0.284</td>\n",
              "    </tr>\n",
              "    <tr>\n",
              "      <th id=\"T_28517_level0_row1\" class=\"row_heading level0 row1\" >2. Random Forest (Tuned)</th>\n",
              "      <td id=\"T_28517_row1_col0\" class=\"data row1 col0\" >0.867</td>\n",
              "      <td id=\"T_28517_row1_col1\" class=\"data row1 col1\" >0.467</td>\n",
              "      <td id=\"T_28517_row1_col2\" class=\"data row1 col2\" >0.795</td>\n",
              "      <td id=\"T_28517_row1_col3\" class=\"data row1 col3\" >0.588</td>\n",
              "    </tr>\n",
              "    <tr>\n",
              "      <th id=\"T_28517_level0_row2\" class=\"row_heading level0 row2\" >3. XGBoost</th>\n",
              "      <td id=\"T_28517_row2_col0\" class=\"data row2 col0\" >0.864</td>\n",
              "      <td id=\"T_28517_row2_col1\" class=\"data row2 col1\" >0.472</td>\n",
              "      <td id=\"T_28517_row2_col2\" class=\"data row2 col2\" >0.771</td>\n",
              "      <td id=\"T_28517_row2_col3\" class=\"data row2 col3\" >0.585</td>\n",
              "    </tr>\n",
              "  </tbody>\n",
              "</table>\n"
            ]
          },
          "metadata": {}
        }
      ]
    },
    {
      "cell_type": "markdown",
      "source": [
        "* Logistic Regression tertinggal jauh, terutama di Recall yang hanya 0.187 (artinya cuma bisa mendeteksi ~19% dari pelanggan yang churn).\n",
        "* Random Forest (Tuned) dan XGBoost menunjukkan performa yang hampir identik dan jauh lebih superior, dengan Recall di 0.467 dan 0.472."
      ],
      "metadata": {
        "id": "q7V8x-R3gfKd"
      }
    },
    {
      "cell_type": "markdown",
      "source": [
        "## SMOTE"
      ],
      "metadata": {
        "id": "vVtsaaQAgoI1"
      }
    },
    {
      "cell_type": "code",
      "source": [
        "!pip install imbalanced-learn"
      ],
      "metadata": {
        "colab": {
          "base_uri": "https://localhost:8080/"
        },
        "id": "pCAhmuvCgp_I",
        "outputId": "c2c3fc9c-dc03-43bd-d8db-9b1b6ac71f0c"
      },
      "execution_count": null,
      "outputs": [
        {
          "output_type": "stream",
          "name": "stdout",
          "text": [
            "Requirement already satisfied: imbalanced-learn in /usr/local/lib/python3.11/dist-packages (0.13.0)\n",
            "Requirement already satisfied: numpy<3,>=1.24.3 in /usr/local/lib/python3.11/dist-packages (from imbalanced-learn) (2.0.2)\n",
            "Requirement already satisfied: scipy<2,>=1.10.1 in /usr/local/lib/python3.11/dist-packages (from imbalanced-learn) (1.15.3)\n",
            "Requirement already satisfied: scikit-learn<2,>=1.3.2 in /usr/local/lib/python3.11/dist-packages (from imbalanced-learn) (1.6.1)\n",
            "Requirement already satisfied: sklearn-compat<1,>=0.1 in /usr/local/lib/python3.11/dist-packages (from imbalanced-learn) (0.1.3)\n",
            "Requirement already satisfied: joblib<2,>=1.1.1 in /usr/local/lib/python3.11/dist-packages (from imbalanced-learn) (1.5.1)\n",
            "Requirement already satisfied: threadpoolctl<4,>=2.0.0 in /usr/local/lib/python3.11/dist-packages (from imbalanced-learn) (3.6.0)\n"
          ]
        }
      ]
    },
    {
      "cell_type": "code",
      "source": [
        "from imblearn.over_sampling import SMOTE\n",
        "\n",
        "print(\"Mulai balancing data pakai SMOTE...\")\n",
        "\n",
        "# Bikin objek SMOTE\n",
        "# random_state=42 biar hasilnya tetep sama setiap kali dijalanin\n",
        "smote = SMOTE(random_state=42)\n",
        "\n",
        "# Pakai SMOTE cuma ke data training (X_train, y_train) aja\n",
        "# Ini langkah super penting biar data test tetap pure dan gak bocor\n",
        "# Kita ambil X_train & y_train asli dari split awal\n",
        "X_train_smote, y_train_smote = smote.fit_resample(X_train, y_train)\n",
        "\n",
        "# 4. Cek hasilnya\n",
        "# Lihat perbedaan jumlah data sebelum dan setelah SMOTE\n",
        "print(\"\\nJumlah data latih SEBELUM SMOTE:\")\n",
        "print(y_train.value_counts())\n",
        "\n",
        "print(\"\\nJumlah data latih SETELAH SMOTE:\")\n",
        "print(pd.Series(y_train_smote).value_counts())\n",
        "# Harusnya sekarang jumlah kelas 0 dan 1 udah seimbang\n",
        "\n",
        "# Scale data latih baru\n",
        "# Jangan lupa scaler harus fit hanya ke data latih SMOTE\n",
        "scaler_smote = StandardScaler()\n",
        "X_train_smote_scaled = scaler_smote.fit_transform(X_train_smote)\n",
        "# Data test di-scale pake scaler yg sama biar konsisten\n",
        "X_test_smote_scaled = scaler.transform(X_test)\n",
        "\n",
        "# Fit lagi model XGBoost pake data SMOTE\n",
        "print(\"\\nMelatih ulang model XGBoost pake data SMOTE...\")\n",
        "# Pake parameter default XGBClassifier yg biasanya udah bagus\n",
        "xgb_model_smote = xgb.XGBClassifier(\n",
        "    objective='binary:logistic',\n",
        "    eval_metric='logloss',\n",
        "    use_label_encoder=False,\n",
        "    random_state=42\n",
        ")\n",
        "xgb_model_smote.fit(X_train_smote_scaled, y_train_smote)\n",
        "print(\"Model selesai dilatih!\")\n",
        "\n",
        "# Evaluasi model baru di data test asli\n",
        "# Ini cara kita lihat seberapa bagus model baru ini\n",
        "y_pred_xgb_smote = xgb_model_smote.predict(X_test_smote_scaled)\n",
        "\n",
        "# Tampil hasil akhirnya\n",
        "print(\"\\n--- Hasil Evaluasi Final: Model XGBoost pake Data SMOTE ---\")\n",
        "print(classification_report(y_test, y_pred_xgb_smote, target_names=['Non-Churn (0)', 'Churn (1)']))\n"
      ],
      "metadata": {
        "colab": {
          "base_uri": "https://localhost:8080/"
        },
        "id": "Aj6fGohQg6u0",
        "outputId": "99f4f1bd-4657-4553-c518-c707fbd41cfa"
      },
      "execution_count": null,
      "outputs": [
        {
          "output_type": "stream",
          "name": "stdout",
          "text": [
            "Mulai balancing data pakai SMOTE...\n",
            "\n",
            "Jumlah data latih SEBELUM SMOTE:\n",
            "Exited\n",
            "0    6370\n",
            "1    1630\n",
            "Name: count, dtype: int64\n",
            "\n",
            "Jumlah data latih SETELAH SMOTE:\n",
            "Exited\n",
            "1    6370\n",
            "0    6370\n",
            "Name: count, dtype: int64\n",
            "\n",
            "Melatih ulang model XGBoost pake data SMOTE...\n"
          ]
        },
        {
          "output_type": "stream",
          "name": "stderr",
          "text": [
            "/usr/local/lib/python3.11/dist-packages/xgboost/core.py:158: UserWarning: [11:21:18] WARNING: /workspace/src/learner.cc:740: \n",
            "Parameters: { \"use_label_encoder\" } are not used.\n",
            "\n",
            "  warnings.warn(smsg, UserWarning)\n"
          ]
        },
        {
          "output_type": "stream",
          "name": "stdout",
          "text": [
            "Model selesai dilatih!\n",
            "\n",
            "--- Hasil Evaluasi Final: Model XGBoost pake Data SMOTE ---\n",
            "               precision    recall  f1-score   support\n",
            "\n",
            "Non-Churn (0)       0.91      0.39      0.54      1593\n",
            "    Churn (1)       0.26      0.85      0.40       407\n",
            "\n",
            "     accuracy                           0.48      2000\n",
            "    macro avg       0.59      0.62      0.47      2000\n",
            " weighted avg       0.78      0.48      0.52      2000\n",
            "\n"
          ]
        }
      ]
    },
    {
      "cell_type": "code",
      "source": [
        "# Bikin list kosong buat nyimpen performa masing-masing model\n",
        "final_model_performance = []\n",
        "\n",
        "# --- Model 1: Logistic Regression (Baseline) ---\n",
        "# Dapetin metrics pake classification report\n",
        "report_lr = classification_report(y_test, y_pred_lr, output_dict=True)\n",
        "# Append hasil metrics ke list\n",
        "final_model_performance.append({\n",
        "    'Model': '1. Logistic Regression (Baseline)',\n",
        "    'Accuracy': report_lr['accuracy'],\n",
        "    'Recall (Churn)': report_lr['1']['recall'],\n",
        "    'Precision (Churn)': report_lr['1']['precision'],\n",
        "    'F1-Score (Churn)': report_lr['1']['f1-score']\n",
        "})\n",
        "\n",
        "# --- Model 2: Random Forest (Tuned) ---\n",
        "# Sama kayak di atas, cuma buat Random Forest\n",
        "report_rf = classification_report(y_test, y_pred_best_rf, output_dict=True)\n",
        "final_model_performance.append({\n",
        "    'Model': '2. Random Forest (Tuned)',\n",
        "    'Accuracy': report_rf['accuracy'],\n",
        "    'Recall (Churn)': report_rf['1']['recall'],\n",
        "    'Precision (Churn)': report_rf['1']['precision'],\n",
        "    'F1-Score (Churn)': report_rf['1']['f1-score']\n",
        "})\n",
        "\n",
        "# --- Model 3: XGBoost ---\n",
        "# Ambil metrics XGBoost\n",
        "report_xgb = classification_report(y_test, y_pred_xgb, output_dict=True)\n",
        "final_model_performance.append({\n",
        "    'Model': '3. XGBoost',\n",
        "    'Accuracy': report_xgb['accuracy'],\n",
        "    'Recall (Churn)': report_xgb['1']['recall'],\n",
        "    'Precision (Churn)': report_xgb['1']['precision'],\n",
        "    'F1-Score (Churn)': report_xgb['1']['f1-score']\n",
        "})\n",
        "\n",
        "# --- Model 4: XGBoost + SMOTE ---\n",
        "# Metrics untuk XGBoost + SMOTE\n",
        "report_smote = classification_report(y_test, y_pred_xgb_smote, output_dict=True)\n",
        "final_model_performance.append({\n",
        "    'Model': '4. XGBoost + SMOTE',\n",
        "    'Accuracy': report_smote['accuracy'],\n",
        "    'Recall (Churn)': report_smote['1']['recall'],\n",
        "    'Precision (Churn)': report_smote['1']['precision'],\n",
        "    'F1-Score (Churn)': report_smote['1']['f1-score']\n",
        "})\n",
        "\n",
        "# Bikin DataFrame dari list di atas\n",
        "final_comparison_df = pd.DataFrame(final_model_performance)\n",
        "final_comparison_df = final_comparison_df.set_index('Model')\n",
        "\n",
        "# Tampilkan tabelnya\n",
        "print(\"-- Papan Skor Akhir: Perbandingan Performa 4 Model ---\")\n",
        "display(final_comparison_df.style.format(\"{:.3f}\"))\n"
      ],
      "metadata": {
        "colab": {
          "base_uri": "https://localhost:8080/",
          "height": 224
        },
        "id": "kURIyQbTh8NH",
        "outputId": "dec84248-b77e-44d1-baec-a8df4ccd2455"
      },
      "execution_count": null,
      "outputs": [
        {
          "output_type": "stream",
          "name": "stdout",
          "text": [
            "-- Papan Skor Akhir: Perbandingan Performa 4 Model ---\n"
          ]
        },
        {
          "output_type": "display_data",
          "data": {
            "text/plain": [
              "<pandas.io.formats.style.Styler at 0x7dd847a0bd50>"
            ],
            "text/html": [
              "<style type=\"text/css\">\n",
              "</style>\n",
              "<table id=\"T_d8ecb\" class=\"dataframe\">\n",
              "  <thead>\n",
              "    <tr>\n",
              "      <th class=\"blank level0\" >&nbsp;</th>\n",
              "      <th id=\"T_d8ecb_level0_col0\" class=\"col_heading level0 col0\" >Accuracy</th>\n",
              "      <th id=\"T_d8ecb_level0_col1\" class=\"col_heading level0 col1\" >Recall (Churn)</th>\n",
              "      <th id=\"T_d8ecb_level0_col2\" class=\"col_heading level0 col2\" >Precision (Churn)</th>\n",
              "      <th id=\"T_d8ecb_level0_col3\" class=\"col_heading level0 col3\" >F1-Score (Churn)</th>\n",
              "    </tr>\n",
              "    <tr>\n",
              "      <th class=\"index_name level0\" >Model</th>\n",
              "      <th class=\"blank col0\" >&nbsp;</th>\n",
              "      <th class=\"blank col1\" >&nbsp;</th>\n",
              "      <th class=\"blank col2\" >&nbsp;</th>\n",
              "      <th class=\"blank col3\" >&nbsp;</th>\n",
              "    </tr>\n",
              "  </thead>\n",
              "  <tbody>\n",
              "    <tr>\n",
              "      <th id=\"T_d8ecb_level0_row0\" class=\"row_heading level0 row0\" >1. Logistic Regression (Baseline)</th>\n",
              "      <td id=\"T_d8ecb_row0_col0\" class=\"data row0 col0\" >0.808</td>\n",
              "      <td id=\"T_d8ecb_row0_col1\" class=\"data row0 col1\" >0.187</td>\n",
              "      <td id=\"T_d8ecb_row0_col2\" class=\"data row0 col2\" >0.589</td>\n",
              "      <td id=\"T_d8ecb_row0_col3\" class=\"data row0 col3\" >0.284</td>\n",
              "    </tr>\n",
              "    <tr>\n",
              "      <th id=\"T_d8ecb_level0_row1\" class=\"row_heading level0 row1\" >2. Random Forest (Tuned)</th>\n",
              "      <td id=\"T_d8ecb_row1_col0\" class=\"data row1 col0\" >0.867</td>\n",
              "      <td id=\"T_d8ecb_row1_col1\" class=\"data row1 col1\" >0.467</td>\n",
              "      <td id=\"T_d8ecb_row1_col2\" class=\"data row1 col2\" >0.795</td>\n",
              "      <td id=\"T_d8ecb_row1_col3\" class=\"data row1 col3\" >0.588</td>\n",
              "    </tr>\n",
              "    <tr>\n",
              "      <th id=\"T_d8ecb_level0_row2\" class=\"row_heading level0 row2\" >3. XGBoost</th>\n",
              "      <td id=\"T_d8ecb_row2_col0\" class=\"data row2 col0\" >0.864</td>\n",
              "      <td id=\"T_d8ecb_row2_col1\" class=\"data row2 col1\" >0.472</td>\n",
              "      <td id=\"T_d8ecb_row2_col2\" class=\"data row2 col2\" >0.771</td>\n",
              "      <td id=\"T_d8ecb_row2_col3\" class=\"data row2 col3\" >0.585</td>\n",
              "    </tr>\n",
              "    <tr>\n",
              "      <th id=\"T_d8ecb_level0_row3\" class=\"row_heading level0 row3\" >4. XGBoost + SMOTE</th>\n",
              "      <td id=\"T_d8ecb_row3_col0\" class=\"data row3 col0\" >0.482</td>\n",
              "      <td id=\"T_d8ecb_row3_col1\" class=\"data row3 col1\" >0.850</td>\n",
              "      <td id=\"T_d8ecb_row3_col2\" class=\"data row3 col2\" >0.262</td>\n",
              "      <td id=\"T_d8ecb_row3_col3\" class=\"data row3 col3\" >0.401</td>\n",
              "    </tr>\n",
              "  </tbody>\n",
              "</table>\n"
            ]
          },
          "metadata": {}
        }
      ]
    },
    {
      "cell_type": "markdown",
      "source": [
        "## 📊 Ringkasan Akhir Analisis dan Perbandingan Model Churn\n",
        "\n",
        "Berdasarkan analisis komprehensif yang telah dilakukan, tabel perbandingan performa model ini menyajikan empat pendekatan strategis yang berbeda untuk mengatasi masalah customer churn. Setiap model memiliki karakteristik, keunggulan, dan konsekuensinya masing-masing.\n",
        "\n",
        "---\n",
        "\n",
        "### 🔍 Kisah Perjalanan Model: Dari Baseline ke Optimasi\n",
        "Tabel ini menunjukkan perjalanan kita untuk nyari model terbaik:\n",
        "\n",
        "- **Model 1 (Logistic Regression)**: Ini baseline awal. Dengan Recall cuma 18.7%, model ini terlalu lemah buat diandalkan untuk retensi pelanggan.\n",
        "- **Model 2 & 3 (Random Forest & XGBoost)**: Dengan beralih ke algoritma lebih canggih, kemampuan deteksi naik tajam hingga ~47%. Ini kenaikan performa signifikan dan bisa dibilang sudah mendekati *limit* data aslinya.\n",
        "- **Model 4 (XGBoost + SMOTE)**: Ini *game-changer*! Dengan merekayasa data latih untuk mengatasi ketidakseimbangan, kita berhasil lompat jauh hingga **Recall 85%**. Ini artinya model bisa menjangkau jauh lebih banyak pelanggan berisiko.\n",
        "\n",
        "---\n",
        "\n",
        "### ⚖️ Temuan Kunci: Trade-Off Antara Recall dan Precision\n",
        "Di sini makin kelihatan kalau kita harus pintar-pintar cari balance antara akurasi dan jangkauan:\n",
        "\n",
        "- **Model #2 dan #3**: Precision-nya cukup tinggi (~80%). Kalau model bilang pelanggan mau churn, biasanya benar. Tapi kelemahannya, banyak pelanggan berisiko yang lolos (Recall rendah).\n",
        "- **Model #4 (XGBoost + SMOTE)**: Model ini super sensitif (Recall 85%), artinya bisa nangkap lebih banyak pelanggan berisiko. Tapi harus siap kalau banyak *false alarm*, dilihat dari Precision-nya cuma 26%.\n",
        "\n",
        "---\n",
        "\n",
        "### 🎯 Rekomendasi Final: Model Mana yang Cocok untuk Bisnismu?\n",
        "Pemilihan model bukan hanya soal angka — harus sesuai kebutuhan dan prioritas bisnis:\n",
        "\n",
        "✅ **Pilih Model #3 (XGBoost)** kalau:\n",
        "- **Strategi bisnis:** Mau efisiensi biaya retensi.\n",
        "- **Alasan:** Intervensi untuk mempertahankan pelanggan itu mahal (misal, diskon besar, call center). Dengan model ini, setiap intervensi lebih *precise*, dan kita hanya menghubungi pelanggan yang kemungkinan besar benar-benar mau keluar.\n",
        "\n",
        "🚀 **Pilih Model #4 (XGBoost + SMOTE)** kalau:\n",
        "- **Strategi bisnis:** Mau menjangkau semua pelanggan berisiko.\n",
        "- **Alasan:** Biaya kehilangan pelanggan itu super mahal, sementara biaya intervensi (misal, email promosi otomatis) murah. Nggak masalah banyak *false alarms*, selama kita bisa *menyelamatkan* sebanyak mungkin pelanggan berisiko.\n",
        "\n",
        "---\n",
        "\n",
        "**🔥 Intinya:**  \n",
        "Model terbaik bukan soal siapa menang di F1-Score aja — harus lihat tujuan\n"
      ],
      "metadata": {
        "id": "Gdq2oH1bimK6"
      }
    }
  ]
}